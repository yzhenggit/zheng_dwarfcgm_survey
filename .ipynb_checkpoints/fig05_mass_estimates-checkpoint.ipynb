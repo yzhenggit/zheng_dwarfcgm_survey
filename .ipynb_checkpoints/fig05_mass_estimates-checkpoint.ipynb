{
 "cells": [
  {
   "cell_type": "code",
   "execution_count": 3,
   "id": "061628d0",
   "metadata": {},
   "outputs": [],
   "source": [
    "%matplotlib inline\n",
    "import numpy as np \n",
    "from astropy.table import Table\n",
    "import matplotlib.pyplot as plt\n",
    "import matplotlib as mpl \n",
    "mpl.rcParams['font.family'] = 'stixgeneral'"
   ]
  },
  {
   "cell_type": "code",
   "execution_count": 4,
   "id": "68f67cc6",
   "metadata": {},
   "outputs": [],
   "source": [
    "# normalized radius \n",
    "R200m = 135 # kpc median virial radius R200m #\n",
    "xR_min = 0.1 #  = b/R200m\n",
    "xR_max = 1 # R200m \n",
    "\n",
    "xR_arr = np.logspace(np.log10(xR_min), np.log10(1.1), 100)\n",
    "use1sig = False # False = use3sig\n",
    "file_label = 'use3sig'"
   ]
  },
  {
   "cell_type": "code",
   "execution_count": 5,
   "id": "5cfdc28c",
   "metadata": {},
   "outputs": [],
   "source": [
    "ions = ['HI', 'SiII', 'CII', 'SiIII', 'SiIV', 'CIV']"
   ]
  },
  {
   "cell_type": "code",
   "execution_count": 6,
   "id": "e31b7367",
   "metadata": {},
   "outputs": [],
   "source": [
    "def ion_atomic_mass(ion): \n",
    "    ion_n_lib = {'HI': 1, \n",
    "          'SiII': 28, \n",
    "          'SiIII': 28, \n",
    "          'SiIV': 28, \n",
    "          'CII': 12, \n",
    "          'CIV': 12}\n",
    "    return ion_n_lib[ion]"
   ]
  },
  {
   "cell_type": "code",
   "execution_count": 7,
   "id": "23675a59",
   "metadata": {},
   "outputs": [],
   "source": [
    "def int_mass_within_R(ion, xR_start, xR_end, logN0, k, R200m=135): \n",
    "    import astropy.constants as const\n",
    "    import astropy.units as u\n",
    "    # xR = r/R200m,\n",
    "    ion_n = ion_atomic_mass(ion)\n",
    "    \n",
    "    N0 = 10**logN0 # cm-2\n",
    "    constC = 2*np.pi*(ion_n*const.m_p.to(u.g).value)*((R200m*u.kpc.to(u.cm))**2) # unit of g cm2 \n",
    "    \n",
    "    eq_A1 = (xR_start**(k+2))/(k+2)\n",
    "    eq_A2 = (xR_end**(k+2))/(k+2)\n",
    "    eq_A = eq_A2 - eq_A1 \n",
    "    mass_xR = constC*N0*eq_A*(u.g.to(u.Msun))\n",
    "    \n",
    "    return mass_xR\n",
    "\n",
    "def calc_percentile(para_range, ndecimals=2):\n",
    "    import numpy as np\n",
    "    percentile = np.percentile(para_range, [16, 50, 84])\n",
    "    best_val = np.around(percentile[1], decimals=ndecimals)\n",
    "    sig_lo = -np.around(np.diff(percentile)[0], decimals=ndecimals)\n",
    "    sig_hi = np.around(np.diff(percentile)[1], decimals=ndecimals)\n",
    "    # print(best_val, sig_lo, sig_hi)\n",
    "\n",
    "    return best_val, sig_lo, sig_hi"
   ]
  },
  {
   "cell_type": "code",
   "execution_count": 8,
   "id": "ebb0c57b",
   "metadata": {
    "scrolled": true
   },
   "outputs": [
    {
     "data": {
      "text/plain": [
       "49932.329464146016"
      ]
     },
     "execution_count": 8,
     "metadata": {},
     "output_type": "execute_result"
    }
   ],
   "source": [
    "int_mass_within_R('HI', 0.1, 1, 13.1, -2.5)"
   ]
  },
  {
   "cell_type": "code",
   "execution_count": 7,
   "id": "b398baca",
   "metadata": {},
   "outputs": [],
   "source": [
    "def get_ion_chain(ion, file_label): \n",
    "    import pandas as pd \n",
    "    # get mcmc chain result and get fitted logN and k there \n",
    "    logN_labels = [r'$\\alpha_N$', r'$\\log N_0$']\n",
    "    logN_chainfile = './data/pymc3/pymc3_{}_chain_logN_{}.feather'.format(ion, file_label)\n",
    "    # print(logN_chainfile)\n",
    "\n",
    "    chain_data = pd.read_feather(logN_chainfile)\n",
    "    k_chain = np.asarray(chain_data.slope)\n",
    "    logN0_chain = np.asarray(chain_data.intercept)\n",
    "    return logN0_chain, k_chain"
   ]
  },
  {
   "cell_type": "code",
   "execution_count": 17,
   "id": "a4606c1c",
   "metadata": {
    "code_folding": []
   },
   "outputs": [
    {
     "name": "stdout",
     "output_type": "stream",
     "text": [
      "total mass of HI within R200m: 5.4-1.7+2.9 x1e4Msun\n",
      "total mass of CII within R200m: 3.5-0.9+1.1 x1e4Msun\n",
      "total mass of CIV within R200m: 2.2-0.4+0.5 x1e4Msun\n",
      "total mass of SiIII within R200m: 5.6-1.1+1.3 x1e3Msun\n",
      "total mass of SiIV within R200m: 7.9-2.3+2.9 x1e3Msun\n",
      "total mass of SiII within R200m: 7.2-1.1+1.2 x1e3Msun\n"
     ]
    }
   ],
   "source": [
    "all_mass_result = {}\n",
    "all_fmass_result = {} # normalized by total mass of each ion \n",
    "for ion in ['HI', 'CII', 'CIV', 'SiIII', 'SiIV', 'SiII']:   \n",
    "    logN0_chain, k_chain = get_ion_chain(ion, file_label)\n",
    "    \n",
    "    # calculate total mass at R200m for all posterior distribution \n",
    "    xR_start = xR_min\n",
    "    xR_end = xR_max \n",
    "    total_mass = int_mass_within_R(ion, xR_start, xR_end, logN0_chain, k_chain, R200m=R200m)\n",
    "    \n",
    "    # 50th percentiles and +/- from 16th and 84th \n",
    "    p50_total_mass, p50_sig_lo, p50_sig_hi = calc_percentile(total_mass)\n",
    "    \n",
    "    if ion in ['HI', 'CII', 'CIV']: \n",
    "        print('total mass of {} within R200m: {:.1f}{:.1f}+{:.1f} x1e4Msun'.format(ion, p50_total_mass/1e4, \n",
    "                                                                     p50_sig_lo/1e4, p50_sig_hi/1e4))\n",
    "    else: \n",
    "        print('total mass of {} within R200m: {:.1f}{:.1f}+{:.1f} x1e3Msun'.format(ion, p50_total_mass/1e3, \n",
    "                                                                     p50_sig_lo/1e3, p50_sig_hi/1e3))\n",
    "    # also save the p50 total mass \n",
    "    ion_mass_tb = Table.read('data/ion_cgm_mass.txt', format='ascii')\n",
    "    ind_tb = np.where(ion_mass_tb['Mass']=='M({})'.format(ion))\n",
    "    ind_tb_eneg = np.where(ion_mass_tb['Mass']=='M({})_e-'.format(ion))\n",
    "    ind_tb_epos = np.where(ion_mass_tb['Mass']=='M({})_e+'.format(ion))\n",
    "    ion_mass_tb['ThisWork'][ind_tb] = p50_total_mass\n",
    "    ion_mass_tb['ThisWork'][ind_tb_eneg] = p50_sig_lo\n",
    "    ion_mass_tb['ThisWork'][ind_tb_epos] = p50_sig_hi\n",
    "    from astropy.io import ascii\n",
    "    ascii.write(ion_mass_tb, 'data/ion_cgm_mass.txt', format='csv', overwrite=True)\n",
    "\n",
    "    # cumulative mass for each draw of the posterior and then take p50 \n",
    "    ion_mass_xR = np.zeros(xR_arr.size)\n",
    "    sig_mass_lo = np.zeros(xR_arr.size)\n",
    "    sig_mass_hi = np.zeros(xR_arr.size)\n",
    "    \n",
    "    ion_fmass_xR = np.zeros(xR_arr.size)\n",
    "    sig_fmass_lo = np.zeros(xR_arr.size)\n",
    "    sig_fmass_hi = np.zeros(xR_arr.size)\n",
    "    \n",
    "    for ix in range(len(xR_arr)): \n",
    "        xR_start = xR_min\n",
    "        xR_end = xR_arr[ix]\n",
    "        mass_xR = int_mass_within_R(ion, xR_start, xR_end, logN0_chain, k_chain, R200m=R200m)\n",
    "        fmass_xR = mass_xR/total_mass\n",
    "        ion_mass_xR[ix], sig_mass_lo[ix], sig_mass_hi[ix] = calc_percentile(mass_xR)\n",
    "        ion_fmass_xR[ix], sig_fmass_lo[ix], sig_fmass_hi[ix] = calc_percentile(fmass_xR)\n",
    "    \n",
    "    all_mass_result[ion] = [ion_mass_xR, sig_mass_lo, sig_mass_hi]\n",
    "    all_fmass_result[ion] = [ion_fmass_xR, sig_fmass_lo, sig_fmass_hi]\n",
    "    #break"
   ]
  },
  {
   "cell_type": "markdown",
   "id": "aed432b3",
   "metadata": {},
   "source": [
    "# save a latex table with the accumulative masses "
   ]
  },
  {
   "cell_type": "code",
   "execution_count": 8,
   "id": "20437c52",
   "metadata": {},
   "outputs": [],
   "source": [
    "save_tb = {'xR': xR_arr}\n",
    "\n",
    "kernel_size = 7\n",
    "kernel = np.ones(kernel_size) / kernel_size\n",
    "\n",
    "use_smooth = True\n",
    "\n",
    "for kk, ion in enumerate(['HI', 'CII', 'CIV', 'SiII', 'SiIII', 'SiIV']):   \n",
    "    f_low_bounds = all_fmass_result[ion][0]+all_fmass_result[ion][1]\n",
    "    f_low_bounds_sm = np.convolve(f_low_bounds, kernel, mode='same')\n",
    "    \n",
    "    f_hi_bounds = all_fmass_result[ion][0]+all_fmass_result[ion][2]\n",
    "    f_hi_bounds_sm = np.convolve(f_hi_bounds, kernel, mode='same')\n",
    "    \n",
    "    f_values = all_fmass_result[ion][0]\n",
    "    f_values_sm = np.convolve(f_values, kernel, mode='same')\n",
    "    if use_smooth == True: \n",
    "        save_tb['fmass_'+ion] = [f_values_sm, \n",
    "                        f_low_bounds_sm-f_values_sm,  # low error\n",
    "                        f_hi_bounds_sm-f_values_sm] # high error \n",
    "        save_tb['mass_'+ion] = [all_mass_result[ion][0], \n",
    "                                all_mass_result[ion][1], \n",
    "                                all_mass_result[ion][2]]\n",
    "    else: \n",
    "        save_tb['fmass_'+ion] = [all_fmass_result[ion][0], \n",
    "                                all_fmass_result[ion][1], \n",
    "                                all_fmass_result[ion][2]]\n",
    "        save_tb['mass_'+ion] = [all_mass_result[ion][0], \n",
    "                                all_mass_result[ion][1], \n",
    "                                all_mass_result[ion][2]]\n",
    "    # print(len(f_low_bounds))\n",
    "    \n",
    "# save to a table\n",
    "from astropy.table import Table\n",
    "fmass_tb = Table()\n",
    "fmass_tb['xR'] = save_tb['xR']\n",
    "for ion in ['HI', 'CII', 'CIV', 'SiII', 'SiIII', 'SiIV']: \n",
    "    fmass_tb['f_'+ion] = save_tb['fmass_'+ion][0]\n",
    "    fmass_tb['f_'+ion+'_siglow'] = save_tb['fmass_'+ion][1]\n",
    "    fmass_tb['f_'+ion+'_sighi'] = save_tb['fmass_'+ion][2]\n",
    "    \n",
    "    fmass_tb['M_'+ion] = save_tb['mass_'+ion][0]\n",
    "    fmass_tb['M_'+ion+'_siglow'] = save_tb['mass_'+ion][1]\n",
    "    fmass_tb['M_'+ion+'_sighi'] = save_tb['mass_'+ion][2]\n",
    "\n",
    "final_tb = fmass_tb \n",
    "from astropy.io import ascii\n",
    "tb_name = 'data/tb_mass_allions_{}.csv'.format(file_label)\n",
    "ascii.write(fmass_tb, tb_name, format='csv', overwrite=True)"
   ]
  },
  {
   "cell_type": "markdown",
   "id": "230d6e95",
   "metadata": {},
   "source": [
    "Read in table and write to a latex format"
   ]
  },
  {
   "cell_type": "code",
   "execution_count": 9,
   "id": "02fc77a9",
   "metadata": {},
   "outputs": [],
   "source": [
    "tb_name = 'data/tb_mass_allions_{}.csv'.format(file_label)\n",
    "latex_tb = Table.read(tb_name, format='ascii')"
   ]
  },
  {
   "cell_type": "code",
   "execution_count": 10,
   "id": "dc847a83",
   "metadata": {},
   "outputs": [
    {
     "name": "stdout",
     "output_type": "stream",
     "text": [
      "\\HI & $0.54_{-0.15}^{+0.14}$ & $0.81_{-0.12}^{+0.09}$ & $0.93_{-0.06}^{+0.04}$ & $5.4^{+2.9}_{-1.7}\\times10^4$ \\\\\n",
      "\\CII & $0.26_{-0.07}^{+0.08}$ & $0.56_{-0.09}^{+0.09}$ & $0.80_{-0.05}^{+0.05}$ & $3.5^{+1.1}_{-0.9}\\times10^4$ \\\\\n",
      "\\CIV & $0.32_{-0.07}^{+0.08}$ & $0.62_{-0.07}^{+0.07}$ & $0.83_{-0.04}^{+0.04}$ & $2.2^{+0.5}_{-0.4}\\times10^4$ \\\\\n",
      "\\SiII & $0.17_{-0.03}^{+0.04}$ & $0.44_{-0.05}^{+0.05}$ & $0.72_{-0.03}^{+0.03}$ & $7.2^{+1.2}_{-1.1}\\times10^3$ \\\\\n",
      "\\SiIII & $0.37_{-0.07}^{+0.08}$ & $0.67_{-0.07}^{+0.07}$ & $0.86_{-0.04}^{+0.04}$ & $5.6^{+1.3}_{-1.1}\\times10^3$ \\\\\n",
      "\\SiIV & $0.22_{-0.06}^{+0.08}$ & $0.50_{-0.08}^{+0.09}$ & $0.76_{-0.05}^{+0.05}$ & $7.9^{+2.9}_{-2.3}\\times10^3$ \\\\\n"
     ]
    }
   ],
   "source": [
    "xR_close = np.asarray([0.25, 0.5, 0.75])\n",
    "int_ind = np.zeros(len(xR_close), dtype=int)\n",
    "for i in range(len(xR_close)): \n",
    "    ind = np.argmin(np.abs(latex_tb['xR']-xR_close[i]))\n",
    "    int_ind[i] = ind \n",
    "    \n",
    "# latex table for paper\n",
    "for ion in ['HI', 'CII', 'CIV', 'SiII', 'SiIII', 'SiIV']: \n",
    "    fmass = latex_tb['f_'+ion][int_ind]#[::2]\n",
    "    fmass_lo = latex_tb['f_'+ion+'_siglow'][int_ind]#[::2]\n",
    "    fmass_hi = latex_tb['f_'+ion+'_sighi'][int_ind]#[::2]\n",
    "    pstr = '\\\\{}'.format(ion)\n",
    "    \n",
    "    ind_mass_r200m = np.argmin(abs(latex_tb['xR']-1))\n",
    "    mass = latex_tb['M_{}'.format(ion)][ind_mass_r200m]\n",
    "    mass_lo = latex_tb['M_{}_siglow'.format(ion)][ind_mass_r200m]\n",
    "    mass_hi = latex_tb['M_{}_sighi'.format(ion)][ind_mass_r200m]\n",
    "    \n",
    "    for i in np.arange(len(fmass)):\n",
    "        pstr = '%s & $%.2f_{%.2f}^{+%.2f}$'%(pstr, fmass[i], fmass_lo[i], fmass_hi[i])\n",
    "    # add total mass\n",
    "    int_mass = np.floor(np.log10(mass))\n",
    "    mass_txt = '$%.1f^{+%.1f}_{%.1f}\\\\times10^%d$'%(mass/10**int_mass, mass_hi/10**int_mass,\n",
    "                                                   mass_lo/10**int_mass, int_mass)\n",
    "    pstr = '{} & {}'.format(pstr, mass_txt)\n",
    "    print(pstr + ' \\\\\\\\')\n",
    "    #print('\\\\hline')"
   ]
  },
  {
   "cell_type": "markdown",
   "id": "cd34b786",
   "metadata": {},
   "source": [
    "# Plot the cumulative mass "
   ]
  },
  {
   "cell_type": "code",
   "execution_count": 11,
   "id": "b780d962",
   "metadata": {},
   "outputs": [],
   "source": [
    "tb_name = 'data/tb_mass_allions_{}.csv'.format(file_label)\n",
    "latex_tb = Table.read(tb_name, format='ascii')"
   ]
  },
  {
   "cell_type": "code",
   "execution_count": 12,
   "id": "c6336a1d",
   "metadata": {},
   "outputs": [],
   "source": [
    "colors = {'HI': 'k', \n",
    "          'CIV': 'g', \n",
    "          'SiIII': plt.cm.Blues(0.7), \n",
    "          'CII': 'r', \n",
    "          'SiIV': 'm', \n",
    "          'SiII': plt.cm.Oranges(0.6)}\n",
    "ls = {'HI': '-', \n",
    "      'CIV': ':', \n",
    "      'SiIII': '--', \n",
    "      'CII': '-.', \n",
    "      'SiIV': (0, (3, 1, 1, 1, 1, 1)), \n",
    "      'SiII': (0, (3, 1, 1, 1))}\n",
    "\n",
    "al = {'HI': 0.25,\n",
    "      'CIV': 0.4,\n",
    "      'SiIII': 0.3, \n",
    "      'CII': 0.3,\n",
    "      'SiIV': 0.3, \n",
    "      'SiII': 0.4}"
   ]
  },
  {
   "cell_type": "code",
   "execution_count": 13,
   "id": "f297f5d8",
   "metadata": {},
   "outputs": [],
   "source": [
    "plt_xR_min = 0.09"
   ]
  },
  {
   "cell_type": "code",
   "execution_count": 17,
   "id": "6bf20d9b",
   "metadata": {},
   "outputs": [
    {
     "data": {
      "image/png": "[encoded data removed]",
      "text/plain": [
       "<Figure size 324x504 with 2 Axes>"
      ]
     },
     "metadata": {
      "needs_background": "light"
     },
     "output_type": "display_data"
    }
   ],
   "source": [
    "fs = 14\n",
    "\n",
    "fig = plt.figure(figsize=(4.5, 7))\n",
    "ax1 = fig.add_axes([0.17, 0.57, 0.8, 0.37])  ## top \n",
    "ax2 = fig.add_axes([0.17, 0.07, 0.8, 0.37])  ## bottom \n",
    "\n",
    "labelpad = 0.2\n",
    "tickpad = 0.4\n",
    "\n",
    "####### top panel #### \n",
    "for kk, ion in enumerate(['HI', 'SiII', 'SiIII', 'CII']):\n",
    "    # error bars, smooth the edges due to mcmc percentiles \n",
    "    xR = latex_tb['xR']\n",
    "    f_low_bounds = latex_tb['f_'+ion] + latex_tb['f_'+ion+'_siglow']\n",
    "    f_hi_bounds = latex_tb['f_'+ion] + latex_tb['f_'+ion+'_sighi']\n",
    "    f_values = latex_tb['f_'+ion]\n",
    "    \n",
    "    ax1.fill_between(xR, f_low_bounds, f_hi_bounds, \n",
    "                    color=colors[ion], edgecolor=colors[ion], linewidth=0.7, \n",
    "                     alpha=al[ion])\n",
    "    ax1.plot(xR, f_values, label=ion, \n",
    "            color=colors[ion], lw=2, linestyle=ls[ion])\n",
    "\n",
    "####### bottom panel ####  \n",
    "for kk, ion in enumerate(['HI', 'CIV', 'SiIV']):\n",
    "    xR = latex_tb['xR']\n",
    "    f_low_bounds = latex_tb['f_'+ion] + latex_tb['f_'+ion+'_siglow']\n",
    "    f_hi_bounds = latex_tb['f_'+ion] + latex_tb['f_'+ion+'_sighi']\n",
    "    f_values = latex_tb['f_'+ion]\n",
    "    \n",
    "    ax2.fill_between(xR, f_low_bounds, f_hi_bounds, \n",
    "                    color=colors[ion], edgecolor=colors[ion], linewidth=0.7, \n",
    "                     alpha=al[ion])\n",
    "    ax2.plot(xR, f_values, label=ion, \n",
    "            color=colors[ion], lw=2, linestyle=ls[ion])\n",
    "\n",
    "##### \n",
    "for ax in [ax1, ax2]: \n",
    "    ax.legend(loc='lower right', fontsize=fs-2)\n",
    "    ax.set_xlim(plt_xR_min, 1)\n",
    "    ax.set_yscale('log')\n",
    "    ax.set_xlabel(r'$b/R_{\\rm 200m}$', fontsize=fs, labelpad=labelpad)\n",
    "    ax.minorticks_on()\n",
    "    ax.tick_params(axis='both', labelsize=fs, pad=tickpad)\n",
    "    ax.set_ylim(0.03, 1.0)\n",
    "    ax.set_ylabel(r'$f=M(<b)~/~M(<R_{\\rm 200m})$', fontsize=fs)\n",
    "    ax.set_xscale('log')\n",
    "    ax.set_xticks([0.1, 0.2, 0.3, 0.4, 0.5, 0.6, 0.7, 0.8, 0.9, 1.0])\n",
    "    ax.set_xticklabels(['0.1', '', '', '', '0.5', '', '', '', '', '1.0'], fontsize=fs)\n",
    "    #ax.grid(ls=':', lw=0.5, color=plt.cm.Greys(0.6))\n",
    "    #ax.axvline(0.1)\n",
    "fig.savefig('figs/fig5_mass_rho_allions_{}.pdf'.format(file_label))"
   ]
  },
  {
   "cell_type": "code",
   "execution_count": null,
   "id": "d95346a4",
   "metadata": {},
   "outputs": [],
   "source": []
  },
  {
   "cell_type": "code",
   "execution_count": null,
   "id": "8d18afb4",
   "metadata": {},
   "outputs": [],
   "source": []
  }
 ],
 "metadata": {
  "kernelspec": {
   "display_name": "Python 3 (ipykernel)",
   "language": "python",
   "name": "python3"
  },
  "language_info": {
   "codemirror_mode": {
    "name": "ipython",
    "version": 3
   },
   "file_extension": ".py",
   "mimetype": "text/x-python",
   "name": "python",
   "nbconvert_exporter": "python",
   "pygments_lexer": "ipython3",
   "version": "3.9.7"
  },
  "toc": {
   "base_numbering": 1,
   "nav_menu": {},
   "number_sections": true,
   "sideBar": true,
   "skip_h1_title": false,
   "title_cell": "Table of Contents",
   "title_sidebar": "Contents",
   "toc_cell": false,
   "toc_position": {},
   "toc_section_display": true,
   "toc_window_display": false
  }
 },
 "nbformat": 4,
 "nbformat_minor": 5
}
