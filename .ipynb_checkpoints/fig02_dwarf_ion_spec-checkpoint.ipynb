{
 "cells": [
  {
   "cell_type": "code",
   "execution_count": 1,
   "id": "94f90947",
   "metadata": {},
   "outputs": [],
   "source": [
    "# %load /Users/Yong/Dropbox/nb_common_funcs.py\n",
    "%matplotlib inline\n",
    "import numpy as np \n",
    "import os\n",
    "import re\n",
    "from glob import glob\n",
    "\n",
    "\n",
    "from astropy.table import Table\n",
    "from astropy.coordinates import SkyCoord\n",
    "import astropy.units as u\n",
    "\n",
    "import matplotlib.pyplot as plt\n",
    "import matplotlib as mpl \n",
    "mpl.rcParams['font.family'] = 'stixgeneral'\n",
    "\n",
    "import astropy.constants as const\n",
    "from astropy.constants import c as speed_of_light"
   ]
  },
  {
   "cell_type": "markdown",
   "id": "98717439",
   "metadata": {},
   "source": [
    "Dwarf-QSO pair info"
   ]
  },
  {
   "cell_type": "code",
   "execution_count": 32,
   "id": "af785ed6",
   "metadata": {},
   "outputs": [],
   "source": [
    "#gal_name = 'DDO190'\n",
    "#gal_name_short = 'DDO190'\n",
    "#qso_name = '2MASXJ14292507+4518318'\n",
    "\n",
    "gal_name = 'Sextans B'\n",
    "gal_name_short = 'SexB'\n",
    "qso_name = 'SDSSJ095915.65+050355.1'\n",
    "# dir that stores continuum normalized data \n",
    "dw_qso_dir = './data/dw_qso_spec/{}_{}/'.format(gal_name_short, qso_name)"
   ]
  },
  {
   "cell_type": "code",
   "execution_count": 33,
   "id": "cd33c7a6",
   "metadata": {},
   "outputs": [
    {
     "data": {
      "text/html": [
       "<div><i>Table length=1</i>\n",
       "<table id=\"table140489785455760\" class=\"table-striped table-bordered table-condensed\">\n",
       "<thead><tr><th>References</th><th>gal_name</th><th>gal_ra_deg</th><th>gal_dec_deg</th><th>gal_vlsr_km/s</th><th>qso_hsla_name</th><th>qso_ra_deg</th><th>qso_dec_deg</th><th>impact_para_kpc</th><th>impact_para_err</th><th>qso_hsla_snr</th><th>qso_snr_stis</th><th>gal_z</th><th>gal_dmpc</th><th>d_err</th><th>d_ref</th><th>logM*</th><th>logM*_err</th><th>M*_ref</th><th>logMh</th><th>logMh_err</th><th>Mh_ref</th><th>logMHI</th><th>logMHI_err</th><th>MHI_ref</th><th>logSFR_flg</th><th>logSFR(Msun/yr)</th><th>logSFR_err</th><th>SFR_ref</th><th>R200m_kpc</th><th>R200m_err</th><th>R200c_kpc</th><th>R200c_err</th><th>Wr_flg_HI</th><th>Wr_HI</th><th>eWr_HI</th><th>logN_flg_HI</th><th>logN_HI</th><th>elogN_HI</th><th>Wr_flg_SiII</th><th>Wr_SiII</th><th>eWr_SiII</th><th>logN_flg_SiII</th><th>logN_SiII</th><th>elogN_SiII</th><th>Wr_flg_SiIII</th><th>Wr_SiIII</th><th>eWr_SiIII</th><th>logN_flg_SiIII</th><th>logN_SiIII</th><th>elogN_SiIII</th><th>Wr_flg_SiIV</th><th>Wr_SiIV</th><th>eWr_SiIV</th><th>logN_flg_SiIV</th><th>logN_SiIV</th><th>elogN_SiIV</th><th>Wr_flg_CII</th><th>Wr_CII</th><th>eWr_CII</th><th>logN_flg_CII</th><th>logN_CII</th><th>elogN_CII</th><th>Wr_flg_CIV</th><th>Wr_CIV</th><th>eWr_CIV</th><th>logN_flg_CIV</th><th>logN_CIV</th><th>elogN_CIV</th><th>Wr_flg_OVI</th><th>Wr_OVI</th><th>eWr_OVI</th><th>logN_flg_OVI</th><th>logN_OVI</th><th>elogN_OVI</th></tr></thead>\n",
       "<thead><tr><th>str15</th><th>str23</th><th>float64</th><th>float64</th><th>float64</th><th>str24</th><th>float64</th><th>float64</th><th>float64</th><th>float64</th><th>float64</th><th>float64</th><th>float64</th><th>float64</th><th>float64</th><th>str3</th><th>float64</th><th>float64</th><th>str24</th><th>float64</th><th>float64</th><th>str3</th><th>float64</th><th>float64</th><th>str17</th><th>str1</th><th>float64</th><th>float64</th><th>str19</th><th>float64</th><th>float64</th><th>float64</th><th>float64</th><th>str8</th><th>float64</th><th>float64</th><th>str8</th><th>float64</th><th>float64</th><th>str8</th><th>float64</th><th>float64</th><th>str8</th><th>float64</th><th>float64</th><th>str8</th><th>float64</th><th>float64</th><th>str8</th><th>float64</th><th>float64</th><th>str8</th><th>float64</th><th>float64</th><th>str8</th><th>float64</th><th>float64</th><th>str8</th><th>float64</th><th>float64</th><th>str8</th><th>float64</th><th>float64</th><th>str8</th><th>float64</th><th>float64</th><th>str8</th><th>float64</th><th>float64</th><th>str8</th><th>float64</th><th>float64</th><th>str8</th><th>float64</th><th>float64</th></tr></thead>\n",
       "<tr><td>NewObs/Archived</td><td>Sextans B</td><td>150.0004</td><td>5.3322</td><td>294.01</td><td>SDSSJ095915.65+050355.1</td><td>149.8152</td><td>5.0653</td><td>8.1</td><td>0.3</td><td>10.8</td><td>nan</td><td>nan</td><td>1.43</td><td>0.05</td><td>T16</td><td>7.56</td><td>0.07</td><td>Dale09+d_ref</td><td>10.37</td><td>0.04</td><td>M21</td><td>7.57</td><td>0.03</td><td>H18+d_ref</td><td>=</td><td>-2.58</td><td>0.04</td><td>FUV, Lee11</td><td>99.66</td><td>2.8</td><td>60.4</td><td>1.9</td><td>--</td><td>nan</td><td>nan</td><td>--</td><td>nan</td><td>nan</td><td>&lt;=(1sig)</td><td>17.0</td><td>nan</td><td>&lt;=(1sig)</td><td>12.02</td><td>nan</td><td>=</td><td>79.6</td><td>9.8</td><td>=</td><td>12.72</td><td>0.06</td><td>=</td><td>24.0</td><td>8.1</td><td>=</td><td>12.45</td><td>0.13</td><td>--</td><td>nan</td><td>nan</td><td>--</td><td>nan</td><td>nan</td><td>=</td><td>121.4</td><td>23.1</td><td>=</td><td>13.63</td><td>0.05</td><td>--</td><td>nan</td><td>nan</td><td>--</td><td>nan</td><td>nan</td></tr>\n",
       "</table></div>"
      ],
      "text/plain": [
       "<Table length=1>\n",
       "   References    gal_name gal_ra_deg gal_dec_deg gal_vlsr_km/s      qso_hsla_name      ... Wr_flg_OVI  Wr_OVI eWr_OVI logN_flg_OVI logN_OVI elogN_OVI\n",
       "     str15        str23    float64     float64      float64             str24          ...    str8    float64 float64     str8     float64   float64 \n",
       "--------------- --------- ---------- ----------- ------------- ----------------------- ... ---------- ------- ------- ------------ -------- ---------\n",
       "NewObs/Archived Sextans B   150.0004      5.3322        294.01 SDSSJ095915.65+050355.1 ...         --     nan     nan           --      nan       nan"
      ]
     },
     "execution_count": 33,
     "metadata": {},
     "output_type": "execute_result"
    }
   ],
   "source": [
    "dw_tb = Table.read('./data/zheng_dwarfcgm-survey_cut-mstar9.5-snr8-br200m.csv', format='ascii')\n",
    "ind = (dw_tb['qso_hsla_name']==qso_name) & (dw_tb['gal_name']==gal_name) \n",
    "qso_rkpc = dw_tb['impact_para_kpc'][ind]\n",
    "qso_snr = dw_tb['qso_hsla_snr'][ind]\n",
    "dw_tb[ind]"
   ]
  },
  {
   "cell_type": "code",
   "execution_count": 19,
   "id": "374ef6c8",
   "metadata": {},
   "outputs": [
    {
     "name": "stdout",
     "output_type": "stream",
     "text": [
      "Input: vlsr=0.00 km/s, l_deg=233.2001, b_deg=43.7838\n",
      "Output: vhelio=5.99 km/s\n",
      "Reference (host galaxy) redshift: z=1.00e-03, vhel=300.00 km/s\n"
     ]
    }
   ],
   "source": [
    "gal_ra = dw_tb['gal_ra_deg'][ind][0]\n",
    "gal_dec = dw_tb['gal_dec_deg'][ind][0]\n",
    "gal_vlsr = dw_tb['gal_vlsr_km/s'][ind][0]\n",
    "gal_coord = SkyCoord(ra=gal_ra, dec=gal_dec, frame='icrs', unit=(u.deg, u.deg))\n",
    "\n",
    "# change from vlsr to vhel \n",
    "from yztools.vhelio2vlsr import vhelio2vlsr_Westmeier \n",
    "vlsr_2_vhel = vhelio2vlsr_Westmeier(0, gal_coord.galactic.l.deg, \n",
    "                                    gal_coord.galactic.b.deg, \n",
    "                                    reverse=True, do_print=True)\n",
    "gal_vhel = gal_vlsr+vlsr_2_vhel\n",
    "gal_z = gal_vhel/(speed_of_light.to(u.km/u.s).value)\n",
    "print(\"Reference (host galaxy) redshift: z={:.2e}, vhel={:.2f} km/s\".format(gal_z, gal_vhel))"
   ]
  },
  {
   "cell_type": "markdown",
   "id": "0513b5c3",
   "metadata": {},
   "source": [
    "Get line data "
   ]
  },
  {
   "cell_type": "code",
   "execution_count": 20,
   "id": "72adb56a",
   "metadata": {},
   "outputs": [],
   "source": [
    "ion_data = Table.read('/Users/Yong/Dropbox/GitRepo/yztools/llist/morton03.txt', format='ascii')\n",
    "\n",
    "line_names_short = ['CII1334', 'CIV1548',  \n",
    "                   'SiII1260', 'SiIII1206', 'SiIV1393']\n",
    "line_fs_short = np.zeros(len(line_names_short))\n",
    "line_lambdas_short = np.zeros(len(line_names_short))\n",
    "for ll in range(len(line_names_short)):\n",
    "    line_fs_short[ll] = ion_data['line_f'][ion_data['line_name']==line_names_short[ll]]\n",
    "    line_lambdas_short[ll] = ion_data['line_lambda'][ion_data['line_name']==line_names_short[ll]]"
   ]
  },
  {
   "cell_type": "markdown",
   "id": "19ea71f4",
   "metadata": {},
   "source": [
    "Get AOD result "
   ]
  },
  {
   "cell_type": "code",
   "execution_count": 21,
   "id": "09bac323",
   "metadata": {},
   "outputs": [
    {
     "name": "stdout",
     "output_type": "stream",
     "text": [
      "['./data/aod//SexB_SDSSJ095915.65+050355.1_aod_bin3.txt']\n",
      "Has AOD ranges: \n"
     ]
    },
    {
     "data": {
      "text/plain": [
       "{'SiII1190': [-50.0, 50.0],\n",
       " 'SiIII1206': [-50.0, 50.0],\n",
       " 'SII1250': [-50.0, 50.0],\n",
       " 'CII1334': [nan, nan],\n",
       " 'SiII1193': [-50.0, 50.0],\n",
       " 'SiIV1393': [-50.0, 50.0],\n",
       " 'SII1253': [-50.0, 50.0],\n",
       " 'CIV1548': [-90.0, 50.0],\n",
       " 'SiII1260': [-50.0, 50.0],\n",
       " 'SiIV1402': [-50.0, 50.0],\n",
       " 'SII1259': [nan, nan],\n",
       " 'CIV1550': [-90.0, 50.0],\n",
       " 'SiII1526': [-50.0, 50.0],\n",
       " 'AlII1670': [-50.0, 50.0]}"
      ]
     },
     "execution_count": 21,
     "metadata": {},
     "output_type": "execute_result"
    }
   ],
   "source": [
    "# if this line has been processed, then use the previous vaod ranges\n",
    "aod_dir = './data/aod/'\n",
    "nbin = 'bin3'\n",
    "\n",
    "ion_tb_temp = glob('{}/{}_{}_aod_{}.txt'.format(aod_dir, gal_name_short, qso_name, nbin))\n",
    "print(ion_tb_temp)\n",
    "if len(ion_tb_temp) != 0:\n",
    "    print('Has AOD ranges: ')\n",
    "    vaod_minmax = {}\n",
    "    aod_tb = Table.read(ion_tb_temp[0], format='ascii')\n",
    "    for ll, line_name in enumerate(aod_tb['line']): \n",
    "        vaod_minmax[line_name] = [aod_tb['vmin'][ll], aod_tb['vmax'][ll]]\n",
    "\n",
    "vaod_minmax"
   ]
  },
  {
   "cell_type": "markdown",
   "id": "5ac03192",
   "metadata": {},
   "source": [
    "plot set up"
   ]
  },
  {
   "cell_type": "code",
   "execution_count": 40,
   "id": "2bd9b2a5",
   "metadata": {},
   "outputs": [],
   "source": [
    "# Various plotting functions \n",
    "def plt_vhel_flux_short(ax, vhel_arr, flux_arr, err_arr, iline, gal_vhel,  \n",
    "                      vrange=[-300, 300], vaod_min=-50, \n",
    "                  vaod_max=50, ymin=-0.1, ymax=1.5, aod_text3='', \n",
    "                  aod_text1='', aod_text2='', line_loc='top left'): \n",
    "    ax.step(vhel_arr, flux_arr, color='k', lw=0.7)\n",
    "    ax.step(vhel_arr, err_arr, color='k', lw=0.7, alpha=0.5)\n",
    "    ax_xmin = vrange[0]\n",
    "    ax_xmax = vrange[1]\n",
    "    ax.set_xlim(ax_xmin, ax_xmax)\n",
    "    ax.hlines(1.0, ax_xmin, ax_xmax, ls=':', lw=0.7, color='k')\n",
    "    ax.vlines(0, ymin, ymax, linestyle=':', lw=0.5, color=mw_color)\n",
    "    ax.vlines(gal_vhel, ymin, ymax, linestyle=':', lw=0.5, color='r')\n",
    "    if np.isfinite(vaod_min): \n",
    "        ax.fill_between([gal_vhel+vaod_min, gal_vhel+vaod_max], \n",
    "                        ymin, ymax, color=plt.cm.Greys(0.6), alpha=0.2, lw=0)\n",
    "    ax.set_ylim(ymin, ymax)\n",
    "    ax.tick_params('x', labelsize=fs-3)\n",
    "    ax.tick_params('y', labelsize=fs-3)\n",
    "    ax.set_xlabel(r'v$_{\\rm helio}$ (km/s)', fontsize=fs)\n",
    "    ax.set_title(iline, fontsize=fs, pad=0.2)\n",
    "    ax.set_xticks([-200, 0, 200])\n",
    "    \n",
    "    # add AOD measurements\n",
    "    if iline in line_names_short: \n",
    "        text_color = 'k'\n",
    "    else: \n",
    "        text_color = 'k'\n",
    "    if len(aod_text1)>0: \n",
    "        xx = dv_left+(dv_right-dv_left)*0.4\n",
    "        #xx = gal_vhel - 130\n",
    "        yy1, yy2, yy3 = 1.56, 1.38, 1.21\n",
    "        ax.text(xx, yy1, aod_text1, fontsize=fs-4, color=text_color)\n",
    "        ax.text(xx, yy2, aod_text2, fontsize=fs-4, color=text_color)\n",
    "        ax.text(xx, yy3, aod_text3, fontsize=fs-4, color=text_color)\n",
    "        \n",
    "    ax.minorticks_on()\n",
    "    return ax, ax_xmin, ax_xmax\n",
    "\n",
    "def annotate_lines_short(ax, ref_lambda, gal_labels, gal_vs, ymin, ymax, xmin, xmax, \n",
    "                   fs=6): \n",
    "    from yztools.llist.load_atomic_data import morton03\n",
    "    ions = ['SiII', 'SiIII', 'SiIV', 'CII', 'CIV', \n",
    "             'SII', 'AlII']\n",
    "    for ion in ions: \n",
    "        ion_info = morton03(ion)\n",
    "        for i, line_lambda in enumerate(ion_info['lambda']):\n",
    "            this_line_v = (line_lambda/ref_lambda-1)*speed_of_light.to(u.km/u.s).value\n",
    "            for iv, ib in zip(gal_vs, gal_labels): \n",
    "                if (this_line_v+iv <= xmin) or (this_line_v+iv >= xmax): \n",
    "                    continue\n",
    "                else: \n",
    "                    ax.vlines(this_line_v+iv, ymin, ymax, linestyle=':', color='k', \n",
    "                              alpha=0.7, lw=0.5)\n",
    "                    if ib == 'MW': \n",
    "                        color = mw_color\n",
    "                    else: \n",
    "                        color = gal_color\n",
    "                    ax.text(this_line_v+iv, ymin+(ymax-ymin)*0.05+0.2, \n",
    "                            '{}-{}'.format(ib, ion_info['line_name'][i]), fontsize=fs, \n",
    "                            color=color, rotation=90)"
   ]
  },
  {
   "cell_type": "code",
   "execution_count": 41,
   "id": "03968310",
   "metadata": {},
   "outputs": [],
   "source": [
    "mw_color = plt.cm.Greys(0.8)\n",
    "gal_color = plt.cm.RdPu(0.7)\n",
    "dv_left = -200 # velocity range to plot\n",
    "dv_right = 400\n",
    "line_loc = 'top left'"
   ]
  },
  {
   "cell_type": "code",
   "execution_count": 42,
   "id": "3978e765",
   "metadata": {},
   "outputs": [
    {
     "name": "stdout",
     "output_type": "stream",
     "text": [
      "./data/dw_qso_spec/SexB_SDSSJ095915.65+050355.1//*_SiIV1393_Sextans B_bin3.txt\n"
     ]
    }
   ],
   "source": [
    "ionfile_temp = '{}/*_{}_{}_{}.txt'.format(dw_qso_dir, line_name, gal_name, nbin)\n",
    "print(ionfile_temp)"
   ]
  },
  {
   "cell_type": "code",
   "execution_count": 43,
   "id": "c0b680ff",
   "metadata": {},
   "outputs": [
    {
     "data": {
      "image/png": "[encoded data removed]",
      "text/plain": [
       "<Figure size 504x108 with 5 Axes>"
      ]
     },
     "metadata": {
      "needs_background": "light"
     },
     "output_type": "display_data"
    }
   ],
   "source": [
    "fig = plt.figure(figsize=(7, 1.5))\n",
    "# fig = plt.figure(figsize=(3, 5.7))\n",
    "ax_width = 0.18\n",
    "ax_height = 0.52\n",
    "ncol = 5   # number of plot panels \n",
    "fs = 10\n",
    "\n",
    "axes = []\n",
    "for ll in np.arange(len(line_names_short)):\n",
    "    # print('yes')\n",
    "    # line information \n",
    "    line_name = line_names_short[ll]\n",
    "    ion, _, _ = re.split('(\\d+)', line_name)\n",
    "    line_lambda = line_lambdas_short[ll]\n",
    "    ref_lambda = line_lambda # *(1+gal_z)\n",
    "    vaod_min = vaod_minmax[line_name][0]\n",
    "    vaod_max = vaod_minmax[line_name][1]\n",
    "    \n",
    "    # find the corresponding spectra \n",
    "    ionfile_temp = '{}/*_{}_{}_{}.txt'.format(dw_qso_dir, line_name, gal_name_short, nbin)\n",
    "    #print(ionfile_temp)\n",
    "    ionfiles = glob(ionfile_temp)\n",
    "    #print(ionfile_temp, ionfiles)\n",
    "    if len(ionfiles) == 1:\n",
    "        # read spectra \n",
    "        line_spec = Table.read(ionfiles[0], format='ascii')\n",
    "        line_wave = line_spec['Wave']\n",
    "        line_flux = line_spec['NormFlux']\n",
    "        line_err = line_spec['NormErr']\n",
    "        line_vhel = (line_wave/line_lambda-1)*speed_of_light.to(u.km/u.s).value# line_spec['Vel']\n",
    "        \n",
    "        # plot the spectra in velocity/heliocentric frame \n",
    "        ax_v = fig.add_axes([0.055+(ax_width+0.01)*ll, 0.25, ax_width, ax_height])\n",
    "        # ax_v = fig.add_subplot(6, 1, ll+1)\n",
    "        axes.append(ax_v)\n",
    "        \n",
    "        # just plot the data first \n",
    "        plt_vhel_flux_short(ax_v, line_vhel, line_flux, line_err, \n",
    "                            line_name, gal_vhel, vrange=[dv_left, dv_right], \n",
    "                            vaod_min=np.nan, vaod_max=np.nan, \n",
    "                            ymin=0, ymax=1.8, line_loc=line_loc)\n",
    "        \n",
    "        # now add other labels \n",
    "        ind_aod = aod_tb['line'] == line_name\n",
    "        \n",
    "        #### if there is voigt file\n",
    "        if qso_name in ['NGC-5548', 'PG0052+251']: \n",
    "            continue\n",
    "        voigt_file = ionfiles[0].replace('bin3', 'bin3_voigt-comps')\n",
    "        if os.path.isfile(voigt_file) & np.isfinite(vaod_min) & (gal_name != 'UGC06541'): \n",
    "            # print(voigt_file)\n",
    "            voigt_tb = Table.read(voigt_file, format='ascii')\n",
    "            voigt_wave = voigt_tb['wave']\n",
    "            voigt_vhel = (voigt_wave/line_lambda-1)*speed_of_light.to(u.km/u.s).value\n",
    "            indv = np.all([voigt_vhel>=dv_left, voigt_vhel<=dv_right], axis=0)\n",
    "            \n",
    "            # find corresponding Voigt measurement file \n",
    "            mod_file = glob('{}/{}_*{}*.mod.out.dat'.format(dw_qso_dir, qso_name, ion))[0]\n",
    "            # print(mod_file)\n",
    "            mod_tb = Table.read(mod_file, format='ascii')\n",
    "            for icol in voigt_tb.colnames:\n",
    "                if icol == 'wave':\n",
    "                    continue\n",
    "                else: \n",
    "                    comp_v = float(icol.split('_')[2])\n",
    "                    if abs(comp_v - gal_vhel) < 30:\n",
    "                        ax_v.plot(voigt_vhel[indv], voigt_tb[icol][indv], \n",
    "                                  color='r', lw=1, ls='--')\n",
    "                        # add relevant information if it's related to the galaxy\n",
    "                    \n",
    "                        ind_abs = (mod_tb['ion'] == ion) & (abs(mod_tb['vhel']-comp_v)<2)\n",
    "                        logN_abs = mod_tb['logN'][ind_abs][0]\n",
    "                        elogN_abs = mod_tb['err_logN'][ind_abs][0]\n",
    "                        v_abs = mod_tb['vhel'][ind_abs][0]\n",
    "                        ev_abs = mod_tb['err_vhel'][ind_abs][0]\n",
    "                    \n",
    "                        # plot the data \n",
    "                        aod_text1 = r'logN={:.2f}$\\pm${:.2f}'.format(logN_abs, elogN_abs)\n",
    "                        aod_text2 = r'EW{}{:.1f}$\\pm${:.1f} mA'.format(aod_tb['flag'][ind_aod][0], \n",
    "                                                               aod_tb['Wr(mA)'][ind_aod][0], \n",
    "                                                               aod_tb['eWr(mA)'][ind_aod][0])\n",
    "                        aod_text3 = r'$v_c$={:.1f}$\\pm${:.1f}'.format(v_abs, ev_abs)\n",
    "                        plt_vhel_flux_short(ax_v, line_vhel, line_flux+np.nan, line_err+np.nan, \n",
    "                                            line_name, gal_vhel, vrange=[dv_left, dv_right], \n",
    "                                            vaod_min=vaod_min, vaod_max=vaod_max, \n",
    "                                            ymin=0, ymax=1.8, aod_text1=aod_text1, \n",
    "                                            aod_text2=aod_text2, aod_text3=aod_text3, \n",
    "                                            line_loc=line_loc)\n",
    "                    \n",
    "        else: \n",
    "        ### otherwise use AOD #### \n",
    "            if aod_tb['flag'][ind_aod] == '<=(3sig)': \n",
    "                logN_3sig_val = aod_tb['logN(3sig)'][ind_aod][0]\n",
    "                #logN_1sig_val = np.log10((10**logN_3sig_val)/3.)\n",
    "                aod_text1 = r'logN(3$\\sigma$)$\\leq${:.2f}'.format(logN_3sig_val)\n",
    "                \n",
    "                ew_3sig_val = aod_tb['Wr(mA)(3sig)'][ind_aod][0]\n",
    "                #ew_1sig_val = ew_3sig_val/3.\n",
    "                aod_text2 = r'EW(3$\\sigma$)$\\leq${:.1f} mA'.format(ew_3sig_val)\n",
    "            elif (aod_tb['flag'][ind_aod] == ' '*8) or (np.isnan(aod_tb['logN'][ind_aod])):\n",
    "                aod_text1 = ''\n",
    "                aod_text2 = ''\n",
    "            else: \n",
    "                #print('here here here')\n",
    "                # print(aod_tb[ind_aod])\n",
    "                aod_text1 = r'logN{}{:.2f}$\\pm${:.2f}'.format(aod_tb['flag'][ind_aod][0], \n",
    "                                                              aod_tb['logN'][ind_aod][0], \n",
    "                                                              aod_tb['elogN'][ind_aod][0])\n",
    "                aod_text2 = r'EW{}{:.1f}$\\pm${:.1f} mA'.format(aod_tb['flag'][ind_aod][0], \n",
    "                                                               aod_tb['Wr(mA)'][ind_aod][0], \n",
    "                                                               aod_tb['eWr(mA)'][ind_aod][0])\n",
    "            aod_text3 = ''\n",
    "            plt_vhel_flux_short(ax_v, line_vhel, line_flux+np.nan, line_err+np.nan, \n",
    "                                line_name, gal_vhel, vrange=[dv_left, dv_right], \n",
    "                                vaod_min=vaod_min, vaod_max=vaod_max, \n",
    "                                ymin=0, ymax=1.8, aod_text1=aod_text1, \n",
    "                                aod_text2=aod_text2, \n",
    "                                aod_text3=aod_text3, \n",
    "                                line_loc=line_loc)\n",
    "        \n",
    "        annotate_lines_short(ax_v, line_lambda, ['MW'], [0], \n",
    "                             0, 1.8, dv_left, dv_right, fs=fs-5)\n",
    "\n",
    "pp = r'$b$={:.1f} kpc, SNR={:.1f}'.format(qso_rkpc[0], qso_snr[0])\n",
    "ss = '{}, {}, {}'.format(gal_name, qso_name, pp)\n",
    "axes[0].text(dv_left, 2.25, ss, fontsize=fs-1)\n",
    "#axes[0].text(dv_left, 2.25, qso_name, fontsize=fs-3)\n",
    "#axes[0].text(dv_left, 1.95, , fontsize=fs-3)\n",
    "axes[0].set_ylabel('Norm. Flux', fontsize=fs-2)\n",
    "\n",
    "for ax in axes[1:]:\n",
    "    ax.set_yticklabels([])\n",
    "\n",
    "plt.savefig('./figs/fig2_{}_{}_ionspec.pdf'.format(gal_name_short, qso_name))\n",
    "#fig_name = save_name+'_short.pdf'\n",
    "#print(fig_name)\n",
    "#fig.savefig(fig_name)\n",
    "#plt.close()a\n",
    "#fig.savefig('/Users/Yong/Desktop/test.pdf')"
   ]
  },
  {
   "cell_type": "code",
   "execution_count": null,
   "id": "6886656d",
   "metadata": {},
   "outputs": [],
   "source": [
    "save_name"
   ]
  },
  {
   "cell_type": "code",
   "execution_count": null,
   "id": "e31fa79d",
   "metadata": {},
   "outputs": [],
   "source": []
  }
 ],
 "metadata": {
  "kernelspec": {
   "display_name": "Python 3 (ipykernel)",
   "language": "python",
   "name": "python3"
  },
  "language_info": {
   "codemirror_mode": {
    "name": "ipython",
    "version": 3
   },
   "file_extension": ".py",
   "mimetype": "text/x-python",
   "name": "python",
   "nbconvert_exporter": "python",
   "pygments_lexer": "ipython3",
   "version": "3.9.7"
  },
  "toc": {
   "base_numbering": 1,
   "nav_menu": {},
   "number_sections": true,
   "sideBar": true,
   "skip_h1_title": false,
   "title_cell": "Table of Contents",
   "title_sidebar": "Contents",
   "toc_cell": false,
   "toc_position": {},
   "toc_section_display": true,
   "toc_window_display": false
  }
 },
 "nbformat": 4,
 "nbformat_minor": 5
}
