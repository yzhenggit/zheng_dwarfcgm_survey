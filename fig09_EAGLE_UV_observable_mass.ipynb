{
 "cells": [
  {
   "cell_type": "code",
   "execution_count": 1,
   "id": "db4f1aa1",
   "metadata": {},
   "outputs": [],
   "source": [
    "%matplotlib inline\n",
    "import numpy as np \n",
    "\n",
    "from astropy.table import Table, Column\n",
    "import astropy.units as u\n",
    "import astropy.constants as const\n",
    "\n",
    "import matplotlib.pyplot as plt\n",
    "import matplotlib as mpl \n",
    "mpl.rcParams['font.family'] = 'stixgeneral'\n",
    "\n",
    "from glob import glob"
   ]
  },
  {
   "cell_type": "code",
   "execution_count": 2,
   "id": "4ee66c59",
   "metadata": {},
   "outputs": [],
   "source": [
    "use1sig = False\n",
    "ecolor = plt.cm.Greys(0.6)\n",
    "color = plt.cm.Greys(0.8)\n",
    "fs = 16 \n",
    "al = 1\n",
    "\n",
    "ions = ['HI', 'CII', 'CIV', 'SiII', 'SiIII', 'SiIV']\n",
    "ions_eagle = ['h1', 'c2', 'c4', 'si2', 'si3', 'si4']"
   ]
  },
  {
   "cell_type": "code",
   "execution_count": 3,
   "id": "30dd6017",
   "metadata": {},
   "outputs": [],
   "source": [
    "#use_color = True\n",
    "#from load_cgm_dwarf_mod import init_logN_rho_plot\n",
    "from load_cgm_dwarf_mod import get_percentile, plot_posterior, linear_model\n",
    "from load_cgm_dwarf_mod import read_ion_measurements_logN, plot_obsdata"
   ]
  },
  {
   "cell_type": "markdown",
   "id": "a5b11d77",
   "metadata": {},
   "source": [
    "Read in simulation data from EAGLE "
   ]
  },
  {
   "cell_type": "code",
   "execution_count": 4,
   "id": "2df039af",
   "metadata": {},
   "outputs": [],
   "source": [
    "rlabel = 'useR200m' # 'useR200c'\n",
    "eagle_file = 'data/eagle/coldens.run_makefigs_subfind_L012N0376_eagle.NEQ.snap023.056_z000p000.150kpc.sh.mean_{}.dat'.format(rlabel)"
   ]
  },
  {
   "cell_type": "code",
   "execution_count": 5,
   "id": "8b0adfe9",
   "metadata": {},
   "outputs": [
    {
     "data": {
      "text/html": [
       "<i>Table length=6</i>\n",
       "<table id=\"table140459791945632-958095\" class=\"table-striped table-bordered table-condensed\">\n",
       "<thead><tr><th>idx</th><th>MHalo_lo</th><th>Mhalo_hi</th><th>mean(Mhalo)</th><th>mean(MStar)</th><th>mean(Hfull)</th><th>mean(H)</th><th>mean(HI)</th><th>mean(C)</th><th>mean(CII)</th><th>mean(CIV)</th><th>mean(Si)</th><th>mean(SiII)</th><th>mean(SiIII)</th><th>mean(SiIV)</th><th>mean(Silow)</th><th>mean(O)</th><th>mean(OVI)</th></tr></thead>\n",
       "<tr><td>0</td><td>9.5</td><td>10.0</td><td>9.917</td><td>6.23401</td><td>19.3334</td><td>18.6225</td><td>13.3953</td><td>13.5951</td><td>9.79518</td><td>11.711</td><td>12.6708</td><td>7.02078</td><td>8.78824</td><td>9.04376</td><td>9.28262</td><td>13.888</td><td>12.6142</td></tr>\n",
       "<tr><td>1</td><td>10.0</td><td>10.5</td><td>10.19</td><td>6.84578</td><td>19.4246</td><td>18.7112</td><td>14.8864</td><td>13.8077</td><td>10.6346</td><td>11.9302</td><td>12.8843</td><td>9.43553</td><td>10.2485</td><td>10.1038</td><td>10.5347</td><td>14.0849</td><td>12.7037</td></tr>\n",
       "<tr><td>2</td><td>10.5</td><td>11.0</td><td>10.74</td><td>7.98227</td><td>19.6083</td><td>18.9322</td><td>15.7479</td><td>13.9343</td><td>12.3988</td><td>12.5559</td><td>12.9894</td><td>11.4205</td><td>11.5834</td><td>11.0294</td><td>11.8782</td><td>14.2225</td><td>13.0515</td></tr>\n",
       "<tr><td>3</td><td>11.0</td><td>11.5</td><td>11.19</td><td>8.89031</td><td>19.7586</td><td>19.1303</td><td>16.8388</td><td>14.5076</td><td>13.7747</td><td>13.0519</td><td>13.5767</td><td>12.8843</td><td>12.5598</td><td>11.8708</td><td>13.0817</td><td>14.7984</td><td>13.4293</td></tr>\n",
       "<tr><td>4</td><td>11.5</td><td>12.0</td><td>11.71</td><td>9.76723</td><td>19.9322</td><td>19.3458</td><td>16.8983</td><td>15.003</td><td>14.0948</td><td>13.5143</td><td>14.1209</td><td>13.2636</td><td>13.0022</td><td>12.3727</td><td>13.4863</td><td>15.2865</td><td>13.8662</td></tr>\n",
       "<tr><td>5</td><td>12.0</td><td>12.5</td><td>12.17</td><td>10.2312</td><td>20.0859</td><td>19.683</td><td>17.5442</td><td>15.4504</td><td>14.6447</td><td>13.812</td><td>14.5897</td><td>13.8264</td><td>13.4898</td><td>12.7962</td><td>14.0191</td><td>15.7313</td><td>14.1449</td></tr>\n",
       "</table><style>table.dataTable {clear: both; width: auto !important; margin: 0 !important;}\n",
       ".dataTables_info, .dataTables_length, .dataTables_filter, .dataTables_paginate{\n",
       "display: inline-block; margin-right: 1em; }\n",
       ".paginate_button { margin-right: 5px; }\n",
       "</style>\n",
       "<script>\n",
       "\n",
       "var astropy_sort_num = function(a, b) {\n",
       "    var a_num = parseFloat(a);\n",
       "    var b_num = parseFloat(b);\n",
       "\n",
       "    if (isNaN(a_num) && isNaN(b_num))\n",
       "        return ((a < b) ? -1 : ((a > b) ? 1 : 0));\n",
       "    else if (!isNaN(a_num) && !isNaN(b_num))\n",
       "        return ((a_num < b_num) ? -1 : ((a_num > b_num) ? 1 : 0));\n",
       "    else\n",
       "        return isNaN(a_num) ? -1 : 1;\n",
       "}\n",
       "\n",
       "require.config({paths: {\n",
       "    datatables: 'https://cdn.datatables.net/1.10.12/js/jquery.dataTables.min'\n",
       "}});\n",
       "require([\"datatables\"], function(){\n",
       "    console.log(\"$('#table140459791945632-958095').dataTable()\");\n",
       "    \n",
       "jQuery.extend( jQuery.fn.dataTableExt.oSort, {\n",
       "    \"optionalnum-asc\": astropy_sort_num,\n",
       "    \"optionalnum-desc\": function (a,b) { return -astropy_sort_num(a, b); }\n",
       "});\n",
       "\n",
       "    $('#table140459791945632-958095').dataTable({\n",
       "        order: [],\n",
       "        pageLength: 50,\n",
       "        lengthMenu: [[10, 25, 50, 100, 500, 1000, -1], [10, 25, 50, 100, 500, 1000, 'All']],\n",
       "        pagingType: \"full_numbers\",\n",
       "        columnDefs: [{targets: [0, 1, 2, 3, 4, 5, 6, 7, 8, 9, 10, 11, 12, 13, 14, 15, 16, 17], type: \"optionalnum\"}]\n",
       "    });\n",
       "});\n",
       "</script>\n"
      ],
      "text/plain": [
       "<IPython.core.display.HTML object>"
      ]
     },
     "execution_count": 5,
     "metadata": {},
     "output_type": "execute_result"
    }
   ],
   "source": [
    "medlogN_tb = Table.read(eagle_file, format='ascii')\n",
    "medlogN_tb.show_in_notebook()"
   ]
  },
  {
   "cell_type": "code",
   "execution_count": 15,
   "id": "57cbe67c",
   "metadata": {},
   "outputs": [],
   "source": [
    "# calculate total ion mass for eagle galaxies\n",
    "def get_ion_mass(ion_label, au_mass, medlogN_tb, rmin=13.6):\n",
    "    # minimum integration range for the HI mass \n",
    "    # au_mass: atomic mass \n",
    "    # ion_label: Si, SiI, SiIII, SiIV, Silow\n",
    "    med_logN = medlogN_tb['mean({})'.format(ion_label)]\n",
    "    med_logMh = medlogN_tb['mean(Mhalo)']\n",
    "    \n",
    "    from yztools.calc_r200 import calc_r200\n",
    "    med_r200 = calc_r200(medlogN_tb['mean(Mhalo)'], label='200m')[0]\n",
    "    # med_r200 = calc_r200(medlogN_tb['mean(Mhalo)'])[1][0] # matter density \n",
    "    \n",
    "    # print(med_r200)\n",
    "    med_N = (10**med_logN)/u.cm**2\n",
    "    tot_mass = ((med_N*np.pi*(med_r200*u.kpc)**2)*(const.m_p * au_mass)).to(u.Msun).value # Msun\n",
    "    minr_mass = ((med_N*np.pi*(rmin*u.kpc)**2)*(const.m_p * au_mass)).to(u.Msun).value # Msun\n",
    "    return tot_mass-minr_mass"
   ]
  },
  {
   "cell_type": "code",
   "execution_count": 16,
   "id": "d38fdd81",
   "metadata": {},
   "outputs": [
    {
     "name": "stdout",
     "output_type": "stream",
     "text": [
      "[ 9.917 10.19  10.74  11.19  11.71  12.17 ]\n",
      "[4.00537701e+08 7.61333438e+08 2.99810309e+09 9.50089447e+09\n",
      " 3.47644783e+10 1.53378392e+11]\n"
     ]
    }
   ],
   "source": [
    "tot_mass_Si = get_ion_mass('Si', 28, medlogN_tb)\n",
    "tot_mass_SiII = get_ion_mass('SiII', 28, medlogN_tb)\n",
    "tot_mass_SiIII = get_ion_mass('SiIII', 28, medlogN_tb)\n",
    "tot_mass_SiIV = get_ion_mass('SiIV', 28, medlogN_tb)\n",
    "tot_mass_Silow = tot_mass_SiII+tot_mass_SiIII+tot_mass_SiIV\n",
    "\n",
    "tot_mass_H = get_ion_mass('H', 1, medlogN_tb)\n",
    "tot_mass_HI = get_ion_mass('HI', 1, medlogN_tb)\n",
    "\n",
    "tot_mass_C = get_ion_mass('C', 12, medlogN_tb)\n",
    "tot_mass_CII = get_ion_mass('CII', 12, medlogN_tb)\n",
    "tot_mass_CIV = get_ion_mass('CIV', 12, medlogN_tb)\n",
    "tot_mass_Clow = tot_mass_CII+tot_mass_CIV \n",
    "\n",
    "tot_mass_O = get_ion_mass('O', 16, medlogN_tb)\n",
    "tot_mass_OVI = get_ion_mass('OVI', 16, medlogN_tb)\n",
    "\n",
    "print(np.asarray(medlogN_tb['mean(Mhalo)']))\n",
    "print(tot_mass_H)"
   ]
  },
  {
   "cell_type": "code",
   "execution_count": 8,
   "id": "8e60e933",
   "metadata": {},
   "outputs": [
    {
     "name": "stdout",
     "output_type": "stream",
     "text": [
      "2 10.74\n",
      "Median halo mass: 10.74\n",
      "log HI mass: 5.06,6.29,7.69\n",
      "log SiII mass: 1.05,3.41,5.18\n",
      "log SiIII mass: 1.87,3.58,4.85\n",
      "log SiIV mass: 1.72,3.02,4.17\n",
      "log CII mass: 1.88,4.02,5.70\n",
      "log CIV mass: 3.18,4.18,4.98\n",
      "log OVI mass: 4.08,4.80,5.48\n",
      "\n",
      "\n",
      "HI mass: 1961311.45\n",
      "SiII mass: 2584.07\n",
      "SiIII mass: 3760.15\n",
      "SiIV mass: 1050.04\n",
      "CII mass: 10534.84\n",
      "CIV mass: 15126.13\n",
      "OVI mass: 63134.47\n"
     ]
    }
   ],
   "source": [
    "# closest to our sample's median mass\n",
    "sample_mean_logMhalo = 10.9\n",
    "sample_mean_ind = np.argmin(np.abs(medlogN_tb['mean(Mhalo)']-sample_mean_logMhalo))\n",
    "print(sample_mean_ind, medlogN_tb['mean(Mhalo)'][sample_mean_ind])\n",
    "print('Median halo mass:', medlogN_tb['mean(Mhalo)'][sample_mean_ind])\n",
    "print('log HI mass: %.2f,%.2f,%.2f'%(np.log10(tot_mass_HI[sample_mean_ind-1]), \n",
    "                                     np.log10(tot_mass_HI[sample_mean_ind]), \n",
    "                                     np.log10(tot_mass_HI[sample_mean_ind+1])))\n",
    "print('log SiII mass: %.2f,%.2f,%.2f'%(np.log10(tot_mass_SiII[sample_mean_ind-1]), \n",
    "                                     np.log10(tot_mass_SiII[sample_mean_ind]), \n",
    "                                     np.log10(tot_mass_SiII[sample_mean_ind+1])))\n",
    "print('log SiIII mass: %.2f,%.2f,%.2f'%(np.log10(tot_mass_SiIII[sample_mean_ind-1]), \n",
    "                                     np.log10(tot_mass_SiIII[sample_mean_ind]), \n",
    "                                     np.log10(tot_mass_SiIII[sample_mean_ind+1])))\n",
    "print('log SiIV mass: %.2f,%.2f,%.2f'%(np.log10(tot_mass_SiIV[sample_mean_ind-1]), \n",
    "                                     np.log10(tot_mass_SiIV[sample_mean_ind]), \n",
    "                                     np.log10(tot_mass_SiIV[sample_mean_ind+1])))\n",
    "print('log CII mass: %.2f,%.2f,%.2f'%(np.log10(tot_mass_CII[sample_mean_ind-1]), \n",
    "                                     np.log10(tot_mass_CII[sample_mean_ind]), \n",
    "                                     np.log10(tot_mass_CII[sample_mean_ind+1])))\n",
    "print('log CIV mass: %.2f,%.2f,%.2f'%(np.log10(tot_mass_CIV[sample_mean_ind-1]), \n",
    "                                     np.log10(tot_mass_CIV[sample_mean_ind]), \n",
    "                                     np.log10(tot_mass_CIV[sample_mean_ind+1])))\n",
    "print('log OVI mass: %.2f,%.2f,%.2f'%(np.log10(tot_mass_OVI[sample_mean_ind-1]), \n",
    "                                     np.log10(tot_mass_OVI[sample_mean_ind]), \n",
    "                                     np.log10(tot_mass_OVI[sample_mean_ind+1])))\n",
    "\n",
    "print('\\n')\n",
    "print('HI mass: %.2f'%tot_mass_HI[sample_mean_ind])\n",
    "print('SiII mass: %.2f'%tot_mass_SiII[sample_mean_ind])\n",
    "print('SiIII mass: %.2f'%tot_mass_SiIII[sample_mean_ind])\n",
    "print('SiIV mass: %.2f'%tot_mass_SiIV[sample_mean_ind])\n",
    "print('CII mass: %.2f'%tot_mass_CII[sample_mean_ind])\n",
    "print('CIV mass: %.2f'%tot_mass_CIV[sample_mean_ind])\n",
    "print('OVI mass: %.2f'%tot_mass_OVI[sample_mean_ind])\n",
    "\n",
    "# save to table \n",
    "ion_mass_tb = Table.read('data/ion_cgm_mass.txt', format='ascii')\n",
    "for ion, total_mass in zip(['HI', 'CII', 'CIV', 'SiII', 'SiIII', 'SiIV', 'OVI'], \n",
    "                        [tot_mass_HI, tot_mass_CII, tot_mass_CIV, \n",
    "                         tot_mass_SiII, tot_mass_SiIII, tot_mass_SiIV, \n",
    "                         tot_mass_OVI]): \n",
    "    ind_tb = np.where(ion_mass_tb['Mass']=='M({})'.format(ion))\n",
    "    #ind_tb_eneg = np.where(ion_mass_tb['Mass']=='M({})_e-'.format(ion))\n",
    "    #ind_tb_epos = np.where(ion_mass_tb['Mass']=='M({})_e+'.format(ion))\n",
    "    ion_mass_tb['EAGLE_mid'][ind_tb] = np.around(total_mass[sample_mean_ind], decimals=2)\n",
    "    ion_mass_tb['EAGLE_low'][ind_tb] = np.around(total_mass[sample_mean_ind-1], decimals=2)\n",
    "    ion_mass_tb['EAGLE_high'][ind_tb] = np.around(total_mass[sample_mean_ind+1], decimals=2)\n",
    "from astropy.io import ascii\n",
    "ascii.write(ion_mass_tb, 'data/ion_cgm_mass.txt', format='csv', overwrite=True)"
   ]
  },
  {
   "cell_type": "code",
   "execution_count": 9,
   "id": "e1bdffb3",
   "metadata": {},
   "outputs": [
    {
     "data": {
      "image/png": "[encoded data removed]",
      "text/plain": [
       "<Figure size 360x504 with 2 Axes>"
      ]
     },
     "metadata": {
      "needs_background": "light"
     },
     "output_type": "display_data"
    }
   ],
   "source": [
    "fig = plt.figure(figsize=(5, 7))\n",
    "ax2 = fig.add_axes([0.17, 0.58, 0.8, 0.37])  ## top \n",
    "ax = fig.add_axes([0.17, 0.055, 0.8, 0.37])  ## bottom \n",
    "\n",
    "import seaborn as sns\n",
    "cmap = sns.color_palette()\n",
    "cs = [cmap[0], cmap[1], cmap[3], cmap[4]]\n",
    "x = ['Hydrogen', 'Silicon', 'Carbon', 'Oxygen']\n",
    "al = 0.6\n",
    "fs = 14\n",
    "\n",
    "mass_ind = sample_mean_ind\n",
    "height_tot = [tot_mass_H[mass_ind], tot_mass_Si[mass_ind], tot_mass_C[mass_ind], tot_mass_O[mass_ind]]\n",
    "height_low = [tot_mass_HI[mass_ind], tot_mass_Silow[mass_ind], tot_mass_Clow[mass_ind], tot_mass_OVI[mass_ind]]\n",
    "\n",
    "bar_tot = ax.bar(x, height_tot, color=cs, alpha=al, lw=0.5, edgecolor='k')\n",
    "bar_low = ax.bar(x, height_low, hatch='//', color=cs, alpha=al-0.2, edgecolor='k')\n",
    "ax.set_yscale('log')\n",
    "\n",
    "ax.tick_params(labelsize=fs)\n",
    "if rlabel == 'useR200m': \n",
    "    ax.set_ylim(1e3, np.max(height_tot)*8)\n",
    "else: \n",
    "    ax.set_ylim(1e3, np.max(height_tot)*8)\n",
    "ax.set_ylabel(r'Gas Mass within R$_{\\rm 200m}$ ($\\rm M_\\odot$)', fontsize=fs)\n",
    "\n",
    "# Add counts above the two bar graphs\n",
    "log_htot = np.floor(np.log10(height_tot))\n",
    "labels_tot = [r'$M_{\\rm H}$: %.1f$\\times10^{%d}$ $\\rm M_\\odot$'%(height_tot[0]/(10**log_htot[0]), log_htot[0]), \n",
    "              r'$M_{\\rm Si}$: %.1f$\\times10^{%d}$ $\\rm M_\\odot$'%(height_tot[1]/(10**log_htot[1]), log_htot[1]), \n",
    "              r'$M_{\\rm C}$: %.1f$\\times10^{%d}$ $\\rm M_\\odot$'%(height_tot[2]/(10**log_htot[2]), log_htot[2]), \n",
    "              r'$M_{\\rm O}$: %.1f$\\times10^{%d}$ $\\rm M_\\odot$'%(height_tot[3]/(10**log_htot[3]), log_htot[3]),]\n",
    "for i, rect in enumerate(bar_tot):\n",
    "    height = rect.get_height()\n",
    "    ax.text(rect.get_x() + rect.get_width() / 2.0, height, \n",
    "            labels_tot[i], ha='center', va='bottom', fontsize=fs-7)\n",
    "\n",
    "# for observable mass in UV \n",
    "log_hlow = np.floor(np.log10(height_low))\n",
    "labels_low = [r'$M_{\\rm H,UV}$: %.1f$\\times10^{%d}$ $\\rm M_\\odot$'%(height_low[0]/(10**log_hlow[0]), log_hlow[0]), \n",
    "              r'$M_{\\rm Si,UV}$: %.1f$\\times10^{%d}$ $\\rm M_\\odot$'%(height_low[1]/(10**log_hlow[1]), log_hlow[1]), \n",
    "              r'$M_{\\rm C,UV}$: %.1f$\\times10^{%d}$ $\\rm M_\\odot$'%(height_low[2]/(10**log_hlow[2]), log_hlow[2]), \n",
    "              r'$M_{\\rm O,UV}$: %.1f$\\times10^{%d}$ $\\rm M_\\odot$'%(height_low[3]/(10**log_hlow[3]), log_hlow[3])]\n",
    "for i, rect in enumerate(bar_low):\n",
    "    height = rect.get_height()\n",
    "    ax.text(rect.get_x() + rect.get_width() / 2.0, height, \n",
    "            labels_low[i], ha='center', va='bottom', fontsize=fs-7)\n",
    "    \n",
    "ax.set_title(r'For Galaxies with median $M_{\\rm halo}$=$10^{%.1f}$ $\\rm M_\\odot$'%(medlogN_tb['mean(Mhalo)'][mass_ind]), \n",
    "                                                                   fontsize=fs)\n",
    "\n",
    "####################### \n",
    "fmass_C = tot_mass_Clow/tot_mass_C\n",
    "fmass_Si = tot_mass_Silow/tot_mass_Si\n",
    "fmass_H = tot_mass_HI/tot_mass_H\n",
    "fmass_O = tot_mass_OVI/tot_mass_O\n",
    "\n",
    "lw = 2.5\n",
    "ls = ['-', '--', '-.', ':']\n",
    "\n",
    "med_logmh = medlogN_tb['mean(Mhalo)']\n",
    "ax2.plot(med_logmh, fmass_H, color=cs[0], label='H', lw=lw, ls=ls[0], marker='o')\n",
    "ax2.plot(med_logmh, fmass_Si, color=cs[1], label='Si', lw=lw, ls=ls[1], marker='o')\n",
    "ax2.plot(med_logmh, fmass_C, color=cs[2], label='C', lw=lw, ls=ls[2], marker='o')\n",
    "ax2.plot(med_logmh, fmass_O, color=cs[3], label='O', lw=lw, ls=ls[3], marker='o')\n",
    "\n",
    "scc = sample_mean_ind # the one with median mass closet to observational sample \n",
    "ax2.scatter([med_logmh[scc], med_logmh[scc], med_logmh[scc], med_logmh[scc]], \n",
    "           [fmass_H[scc], fmass_Si[scc], fmass_C[scc], fmass_O[scc]], marker='o', s=110,lw=1,\n",
    "           color='k', )\n",
    "ax2.set_yscale('log')\n",
    "#ax2.set_yticks([1e-7, 1e-6, 1e-5, 1e-4, 1e-3, 1e-3, 1e-1])\n",
    "ax2.legend(fontsize=fs-2)\n",
    "ax2.set_xticks(med_logmh)\n",
    "ax2.set_xticklabels(['%.1f'%imass for imass in med_logmh])\n",
    "ax2.tick_params(labelsize=fs)\n",
    "ax2.set_xlabel(r'Mean Halo Mass ($\\rm M_\\odot)$', fontsize=fs)\n",
    "ax2.set_ylabel(r'f=M$_{\\rm gas,UV}$/M$_{\\rm gas,tot}$ within R$_{\\rm 200m}$', fontsize=fs)\n",
    "ax2.set_title('Observable Mass Fraction in UV for EAGLE Galaxies', fontsize=fs-1)\n",
    "#ax2.axhline(1.0)\n",
    "ax2.set_ylim(10**(-6), 1)\n",
    "\n",
    "# fig.tight_layout()\n",
    "fig.savefig('figs/fig9_eagle_mass_elements_{}_meanlogN.pdf'.format(rlabel))"
   ]
  },
  {
   "cell_type": "code",
   "execution_count": 10,
   "id": "2ff9f7a8",
   "metadata": {},
   "outputs": [
    {
     "name": "stdout",
     "output_type": "stream",
     "text": [
      "\n"
     ]
    },
    {
     "data": {
      "image/png": "[encoded data removed]",
      "text/plain": [
       "<Figure size 360x237.6 with 1 Axes>"
      ]
     },
     "metadata": {
      "needs_background": "light"
     },
     "output_type": "display_data"
    }
   ],
   "source": [
    "fig = plt.figure(figsize=(5, 3.3))\n",
    "ax = fig.add_axes([0.17, 0.1, 0.8, 0.88])\n",
    "\n",
    "import seaborn as sns\n",
    "cmap = sns.color_palette()\n",
    "cs = [cmap[0], cmap[1], cmap[3], cmap[4]]\n",
    "x = ['Hydrogen', 'Silicon', 'Carbon', 'Oxygen']\n",
    "al = 0.6\n",
    "fs = 14\n",
    "\n",
    "mass_ind = sample_mean_ind\n",
    "height_tot = [tot_mass_H[mass_ind], tot_mass_Si[mass_ind], tot_mass_C[mass_ind], tot_mass_O[mass_ind]]\n",
    "height_low = [tot_mass_HI[mass_ind], tot_mass_Silow[mass_ind], tot_mass_Clow[mass_ind], tot_mass_OVI[mass_ind]]\n",
    "\n",
    "bar_tot = ax.bar(x, height_tot, color=cs, alpha=al, lw=0.5, edgecolor='k')\n",
    "bar_low = ax.bar(x, height_low, hatch='//', color=cs, alpha=al-0.2, edgecolor='k')\n",
    "ax.set_yscale('log')\n",
    "\n",
    "ax.tick_params(labelsize=fs)\n",
    "if rlabel == 'useR200m': \n",
    "    ax.set_ylim(1e3, np.max(height_tot)*20)\n",
    "else: \n",
    "    ax.set_ylim(1e3, np.max(height_tot)*8)\n",
    "ax.set_ylabel(r'Gas Mass within R$_{\\rm 200m}$ ($\\rm M_\\odot$)', fontsize=fs)\n",
    "\n",
    "# Add counts above the two bar graphs\n",
    "log_htot = np.log10(height_tot)\n",
    "#labels_tot = [r'All: %.1f$\\times10^{%d}$ $\\rm M_\\odot$'%(height_tot[0]/(10**log_htot[0]), log_htot[0]), \n",
    "#              r'All: %.1f$\\times10^{%d}$ $\\rm M_\\odot$'%(height_tot[1]/(10**log_htot[1]), log_htot[1]), \n",
    "#              r'All: %.1f$\\times10^{%d}$ $\\rm M_\\odot$'%(height_tot[2]/(10**log_htot[2]), log_htot[2]), \n",
    "#              r'All: %.1f$\\times10^{%d}$ $\\rm M_\\odot$'%(height_tot[3]/(10**log_htot[3]), log_htot[3]),]\n",
    "labels_tot = [r'All: 10$^{%.1f}$ $\\rm M_\\odot$'%(log_htot[0]),  \n",
    "              r'All: 10$^{%.1f}$ $\\rm M_\\odot$'%(log_htot[1]),  \n",
    "              r'All: 10$^{%.1f}$ $\\rm M_\\odot$'%(log_htot[2]), \n",
    "              r'All: 10$^{%.1f}$ $\\rm M_\\odot$'%(log_htot[3])]\n",
    "for i, rect in enumerate(bar_tot):\n",
    "    height = rect.get_height()\n",
    "    ax.text(rect.get_x() + rect.get_width()*0.55, height, \n",
    "            labels_tot[i], ha='center', va='bottom', fontsize=fs-4)\n",
    "\n",
    "# for observable mass in UV \n",
    "log_hlow = np.log10(height_low)\n",
    "#labels_low = [r'UV: %.1f$\\times10^{%d}$ $\\rm M_\\odot$'%(height_low[0]/(10**log_hlow[0]), log_hlow[0]), \n",
    "#              r'UV: %.1f$\\times10^{%d}$ $\\rm M_\\odot$'%(height_low[1]/(10**log_hlow[1]), log_hlow[1]), \n",
    "#              r'UV: %.1f$\\times10^{%d}$ $\\rm M_\\odot$'%(height_low[2]/(10**log_hlow[2]), log_hlow[2]), \n",
    "#              r'UV: %.1f$\\times10^{%d}$ $\\rm M_\\odot$'%(height_low[3]/(10**log_hlow[3]), log_hlow[3])]\n",
    "labels_low = [r'UV: 10$^{%.1f}$ $\\rm M_\\odot$'%(log_hlow[0]), \n",
    "              r'UV: 10$^{%.1f}$ $\\rm M_\\odot$'%(log_hlow[1]), \n",
    "              r'UV: 10$^{%.1f}$ $\\rm M_\\odot$'%(log_hlow[2]), \n",
    "              r'UV: 10$^{%.1f}$ $\\rm M_\\odot$'%(log_hlow[3])]\n",
    "for i, rect in enumerate(bar_low):\n",
    "    height = rect.get_height()\n",
    "    ax.text(rect.get_x() + rect.get_width()*0.55, height, \n",
    "            labels_low[i], ha='center', va='bottom', fontsize=fs-4)\n",
    "    \n",
    "print()\n",
    "#ax.set_title(r'For Galaxies with median $M_{\\rm 200m}$=$10^{%.1f}$ $\\rm M_\\odot$'%(medlogN_tb['med(Mhalo)'][mass_ind]), \n",
    "#                                                                   fontsize=fs)\n",
    "\n",
    "# fig.tight_layout()\n",
    "fig.savefig('figs/fig9_eagle_mass_elements_{}_meanlogN_1panel.pdf'.format(rlabel))"
   ]
  },
  {
   "cell_type": "code",
   "execution_count": 12,
   "id": "448c71e2",
   "metadata": {},
   "outputs": [
    {
     "data": {
      "text/plain": [
       "0.000630957344480193"
      ]
     },
     "execution_count": 12,
     "metadata": {},
     "output_type": "execute_result"
    }
   ],
   "source": [
    "10**6.3 / 10**9.5"
   ]
  },
  {
   "cell_type": "code",
   "execution_count": 14,
   "id": "7e3b7b5b",
   "metadata": {},
   "outputs": [
    {
     "data": {
      "text/plain": [
       "0.00025118864315095774"
      ]
     },
     "execution_count": 14,
     "metadata": {},
     "output_type": "execute_result"
    }
   ],
   "source": [
    "10**4.7/10**8.3"
   ]
  },
  {
   "cell_type": "code",
   "execution_count": 15,
   "id": "47fa92d2",
   "metadata": {},
   "outputs": [
    {
     "data": {
      "text/plain": [
       "0.07943282347242814"
      ]
     },
     "execution_count": 15,
     "metadata": {},
     "output_type": "execute_result"
    }
   ],
   "source": [
    "10**3.9 / 10**5.0"
   ]
  },
  {
   "cell_type": "code",
   "execution_count": 16,
   "id": "d2655a91",
   "metadata": {},
   "outputs": [
    {
     "data": {
      "text/plain": [
       "0.06309573444801943"
      ]
     },
     "execution_count": 16,
     "metadata": {},
     "output_type": "execute_result"
    }
   ],
   "source": [
    "10**4.4 / 10**5.6"
   ]
  },
  {
   "cell_type": "code",
   "execution_count": 18,
   "id": "2044c003",
   "metadata": {},
   "outputs": [
    {
     "data": {
      "text/plain": [
       "0.0630957344480193"
      ]
     },
     "execution_count": 18,
     "metadata": {},
     "output_type": "execute_result"
    }
   ],
   "source": [
    "10**4.8 / 10**6.0"
   ]
  },
  {
   "cell_type": "code",
   "execution_count": 21,
   "id": "33abb26b",
   "metadata": {},
   "outputs": [
    {
     "data": {
      "text/plain": [
       "12.589254117941664"
      ]
     },
     "execution_count": 21,
     "metadata": {},
     "output_type": "execute_result"
    }
   ],
   "source": [
    "10**5.3 / 10**4.2"
   ]
  },
  {
   "cell_type": "code",
   "execution_count": null,
   "id": "76973db7",
   "metadata": {},
   "outputs": [],
   "source": []
  }
 ],
 "metadata": {
  "kernelspec": {
   "display_name": "Python 3 (ipykernel)",
   "language": "python",
   "name": "python3"
  },
  "language_info": {
   "codemirror_mode": {
    "name": "ipython",
    "version": 3
   },
   "file_extension": ".py",
   "mimetype": "text/x-python",
   "name": "python",
   "nbconvert_exporter": "python",
   "pygments_lexer": "ipython3",
   "version": "3.9.7"
  },
  "toc": {
   "base_numbering": 1,
   "nav_menu": {},
   "number_sections": true,
   "sideBar": true,
   "skip_h1_title": false,
   "title_cell": "Table of Contents",
   "title_sidebar": "Contents",
   "toc_cell": false,
   "toc_position": {},
   "toc_section_display": true,
   "toc_window_display": false
  }
 },
 "nbformat": 4,
 "nbformat_minor": 5
}
