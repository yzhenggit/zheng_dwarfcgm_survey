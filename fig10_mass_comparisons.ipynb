{
 "cells": [
  {
   "cell_type": "code",
   "execution_count": 1,
   "id": "db4f1aa1",
   "metadata": {},
   "outputs": [],
   "source": [
    "%matplotlib inline\n",
    "import numpy as np \n",
    "\n",
    "from astropy.table import Table\n",
    "\n",
    "import matplotlib.pyplot as plt\n",
    "import matplotlib as mpl \n",
    "mpl.rcParams['font.family'] = 'stixgeneral'"
   ]
  },
  {
   "cell_type": "code",
   "execution_count": 2,
   "id": "a26e120e",
   "metadata": {},
   "outputs": [],
   "source": [
    "def find_row(ion_mass_tb, ion): \n",
    "    # find the corresponding row in the ion mass table\n",
    "    ind = np.where(ion_mass_tb['Mass'] == 'M({})'.format(ion))[0][0]\n",
    "    #ind_eneg = np.where(ion_mass_tb['Mass'] == 'M({})_e-'.format(ion))[0][0]\n",
    "    #ind_epos = np.where(ion_mass_tb['Mass'] == 'M({})_e+'.format(ion))[0][0]\n",
    "    return ind #, ind_eneg, ind_epos"
   ]
  },
  {
   "cell_type": "code",
   "execution_count": 3,
   "id": "02df460a",
   "metadata": {},
   "outputs": [],
   "source": [
    "ion_eV = {'HI': 13.6, 'CII': 24.38, 'CIV': 64.49, 'SiII': 16.35, \n",
    "          'SiIII': 33.49, 'SiIV': 45.14, 'OVI': 138.12}\n",
    "ions = ['HI', 'SiII', 'SiIII', 'SiIV', 'CII',  'CIV', 'OVI']"
   ]
  },
  {
   "cell_type": "code",
   "execution_count": 4,
   "id": "2987a70f",
   "metadata": {
    "scrolled": true
   },
   "outputs": [
    {
     "data": {
      "text/html": [
       "<div><i>Table length=7</i>\n",
       "<table id=\"table140469475398608\" class=\"table-striped table-bordered table-condensed\">\n",
       "<thead><tr><th>Mass</th><th>EAGLE_low</th><th>EAGLE_mid</th><th>EAGLE_high</th><th>Bordoloi+2014</th><th>Johnson+2017</th><th>ModelA</th><th>Tchernyshyov22</th></tr></thead>\n",
       "<thead><tr><th>str8</th><th>float64</th><th>float64</th><th>float64</th><th>float64</th><th>str6</th><th>float64</th><th>float64</th></tr></thead>\n",
       "<tr><td>M(HI)</td><td>113965.89</td><td>1961311.45</td><td>48558414.07</td><td>nan</td><td>nan</td><td>56000.0</td><td>nan</td></tr>\n",
       "<tr><td>M(SiII)</td><td>11.3</td><td>2584.07</td><td>150981.08</td><td>nan</td><td>&lt;1.1e4</td><td>22.0</td><td>nan</td></tr>\n",
       "<tr><td>M(SiIII)</td><td>73.46</td><td>3760.15</td><td>71519.18</td><td>nan</td><td>2.3e4</td><td>310.0</td><td>nan</td></tr>\n",
       "<tr><td>M(SiIV)</td><td>52.64</td><td>1050.04</td><td>14636.0</td><td>nan</td><td>&lt;2.3e4</td><td>1300.0</td><td>nan</td></tr>\n",
       "<tr><td>M(CII)</td><td>76.59</td><td>10534.84</td><td>502742.66</td><td>nan</td><td>nan</td><td>410.0</td><td>nan</td></tr>\n",
       "<tr><td>M(CIV)</td><td>1512.71</td><td>15126.13</td><td>95180.01</td><td>150000.0</td><td>6.8e4</td><td>34000.0</td><td>nan</td></tr>\n",
       "<tr><td>M(OVI)</td><td>11972.78</td><td>63134.47</td><td>302610.84</td><td>nan</td><td>6.8e5</td><td>120000.0</td><td>480000.0</td></tr>\n",
       "</table></div>"
      ],
      "text/plain": [
       "<Table length=7>\n",
       "  Mass   EAGLE_low EAGLE_mid   EAGLE_high Bordoloi+2014 Johnson+2017  ModelA  Tchernyshyov22\n",
       "  str8    float64   float64     float64      float64        str6     float64     float64    \n",
       "-------- --------- ---------- ----------- ------------- ------------ -------- --------------\n",
       "   M(HI) 113965.89 1961311.45 48558414.07           nan          nan  56000.0            nan\n",
       " M(SiII)      11.3    2584.07   150981.08           nan       <1.1e4     22.0            nan\n",
       "M(SiIII)     73.46    3760.15    71519.18           nan        2.3e4    310.0            nan\n",
       " M(SiIV)     52.64    1050.04     14636.0           nan       <2.3e4   1300.0            nan\n",
       "  M(CII)     76.59   10534.84   502742.66           nan          nan    410.0            nan\n",
       "  M(CIV)   1512.71   15126.13    95180.01      150000.0        6.8e4  34000.0            nan\n",
       "  M(OVI)  11972.78   63134.47   302610.84           nan        6.8e5 120000.0       480000.0"
      ]
     },
     "execution_count": 4,
     "metadata": {},
     "output_type": "execute_result"
    }
   ],
   "source": [
    "ion_mass_tb = Table.read('data/ion_cgm_mass.txt', format='ascii')\n",
    "ion_mass_tb"
   ]
  },
  {
   "cell_type": "markdown",
   "id": "54f52f19",
   "metadata": {},
   "source": [
    "Plot data "
   ]
  },
  {
   "cell_type": "code",
   "execution_count": 6,
   "id": "04a7b308",
   "metadata": {},
   "outputs": [],
   "source": [
    "eagle_mass = {'HI': [113965.89, 1961311.45, 48558414.07], \n",
    "              'SiII': [11.3, 2584.07, 150981.08], \n",
    "              'SiIII': [73.46, 3760.15, 71519.18], \n",
    "              'SiIV': [52.64, 1050.04, 14636.0], \n",
    "              'CII': [76.59, 10534.84, 502742.66], \n",
    "              'CIV': [1512.71, 15126.13, 95180.01], \n",
    "              'OVI': [11972.78, 63134.47, 302610.84]}\n",
    "\n",
    "b14_mass = {'CIV': 150000.0}\n",
    "\n",
    "j17_mass = {'SiIII': '2.3e4',\n",
    "             'CIV': '6.8e4',\n",
    "             'OVI': '6.8e5',\n",
    "             'SiIV': '<2.3e4',\n",
    "             'SiII': '<1.1e4'}\n",
    "\n",
    "t22_mass = {'OVI': [4.8e5, 2.0e5, -2.0e5]}\n",
    "\n",
    "modelA_mass = {'HI': 56000.0,\n",
    "               'CII': 410.0,\n",
    "               'CIV': 34000.0,\n",
    "               'SiII': 22.0,\n",
    "               'SiIII': 310.0,\n",
    "               'SiIV': 1300.0,\n",
    "               'OVI': 120000.0}"
   ]
  },
  {
   "cell_type": "code",
   "execution_count": 7,
   "id": "cfdbf78a",
   "metadata": {},
   "outputs": [],
   "source": [
    "from load_cgm_dwarf_mod import plt_symbols_standard\n",
    "import seaborn as sns \n",
    "refs, symbols = plt_symbols_standard()\n",
    "refs = np.asarray(refs)\n",
    "symbols = np.asarray(symbols)\n",
    "ss = np.asarray([6, 6, 7, 7, 7, 7, 7])+2 ## for symbol sizes \n",
    "\n",
    "inds = refs=='Bordoloi+2014'\n",
    "b14_sym = symbols[inds][0]\n",
    "b14_ss = ss[inds][0]+1\n",
    "\n",
    "inds = refs=='Johnson+2017'\n",
    "j17_sym = symbols[inds][0]\n",
    "j17_ss = ss[inds][0]-1\n",
    "\n",
    "inds = refs=='NewObs/Archived'\n",
    "this_sym = 'o'\n",
    "this_ss = ss[inds][0]+2\n",
    "\n",
    "al = 1\n",
    "lw = 0.75\n",
    "linelw = 1.5 # for error bar\n",
    "\n",
    "cmap = sns.color_palette()\n",
    "colors = {'eagle': cmap[9], \n",
    "          'b14': plt.cm.Greys(0.6), # cmap[9], \n",
    "          'j17': plt.cm.Greys(0.6), #cmap[4], \n",
    "          'modelA': cmap[3]}"
   ]
  },
  {
   "cell_type": "code",
   "execution_count": 8,
   "id": "e2d52d8f",
   "metadata": {},
   "outputs": [
    {
     "data": {
      "image/png": "[encoded data removed]",
      "text/plain": [
       "<Figure size 360x259.2 with 2 Axes>"
      ]
     },
     "metadata": {
      "needs_background": "light"
     },
     "output_type": "display_data"
    }
   ],
   "source": [
    "fs = 14\n",
    "\n",
    "fig = plt.figure(figsize=(5, 3.6))\n",
    "ax = fig.add_axes([0.13, 0.14, 0.85, 0.77])\n",
    "\n",
    "# empirical model mass  A\n",
    "modelA_x = [ion_eV['HI'], ion_eV['SiII'], ion_eV['SiIII'], \n",
    "           ion_eV['SiIV'], ion_eV['CII'], ion_eV['CIV'], ion_eV['OVI']]\n",
    "modelA_y = [modelA_mass['HI'], modelA_mass['SiII'],modelA_mass['SiIII'], \n",
    "          modelA_mass['SiIV'], modelA_mass['CII'], modelA_mass['CIV'], modelA_mass['OVI']]\n",
    "ax.errorbar(modelA_x, modelA_y, fmt='o', alpha=0.7, \n",
    "            color=colors['modelA'], markersize=11, lw=1, markeredgecolor='k', \n",
    "            markeredgewidth=1, \n",
    "            label=\"Model A (Cool Phase)\"\n",
    "                  \"\\n\"  # Newline: the backslash is interpreted as usual\n",
    "                  r\"(low $n_{\\rm H}$, high $f_{\\rm V}$)\")\n",
    "            #label=r'Model A\\n(low $n_{\\rm H}$, high fV, T=10^4K)')\n",
    "\n",
    "######## eagle mass\n",
    "for ion in ['HI', 'SiII', 'SiIII', 'SiIV', 'CII', 'CIV', 'OVI']: \n",
    "    eagle_x = [ion_eV[ion]] * 3\n",
    "    eagle_y = eagle_mass[ion] # low, mid, high mass bin values \n",
    "    ax.plot(eagle_x, eagle_y, color=colors['eagle'], lw=3)\n",
    "    if ion == 'HI': \n",
    "        label = 'EAGLE (Cool+Warm)'\n",
    "    else: \n",
    "        label = None\n",
    "    ax.errorbar(eagle_x[1], eagle_y[1], fmt='H', \n",
    "                color=colors['eagle'], markersize=12, lw=linelw, \n",
    "                 markeredgecolor='k', markeredgewidth=lw, \n",
    "                 label=label, capsize=3, capthick=4)\n",
    "\n",
    "###### Bordoloi+2014\n",
    "b14_x = [ion_eV['CIV']]# , ion_eV['CIV']]\n",
    "b14_y = [b14_mass['CIV']]# , b14_mass['CIV_high']]\n",
    "ax.errorbar(b14_x, b14_y, fmt=b14_sym, alpha=al-0.2, markeredgewidth=lw, \n",
    "            color=colors['b14'], markersize=b14_ss, lw=linelw, markeredgecolor='k', label='Bordoloi+2014')\n",
    "\n",
    "####### Johnson+2017\n",
    "j17_x = [ion_eV['SiIII'], ion_eV['CIV'], ion_eV['OVI']]\n",
    "j17_yerr = [np.nan, np.nan, np.nan]\n",
    "j17_y = [float(j17_mass['SiIII']), float(j17_mass['CIV']), float(j17_mass['OVI'])]\n",
    "ax.errorbar(j17_x, j17_y, fmt='D', alpha=al-0.2, markeredgewidth=lw, \n",
    "            color=colors['j17'], markersize=9, lw=linelw, markeredgecolor='k', label='Johnson+2017', \n",
    "            capsize=2)\n",
    "\n",
    "# upper limit values \n",
    "j17_x = [ion_eV['SiII'],ion_eV['SiIV']]\n",
    "uplims = [True, True]\n",
    "j17_yerr = [float(j17_mass['SiII'][1:])/1.5, float(j17_mass['SiIV'][1:])/1.5]\n",
    "j17_y = [float(j17_mass['SiII'][1:]), float(j17_mass['SiIV'][1:])]\n",
    "ax.errorbar(j17_x, j17_y, fmt='D', alpha=al-0.2, markeredgewidth=1.5, uplims=uplims, yerr=j17_yerr, \n",
    "            color=colors['j17'], markersize=9, lw=linelw, markeredgecolor=colors['j17'], label=None, \n",
    "            capsize=3, markerfacecolor='none')\n",
    "\n",
    "## Tchernyshyov's OVI mass\n",
    "t22_x = np.asarray([ion_eV['OVI']])\n",
    "t22_y = np.asarray([t22_mass['OVI'][0]])\n",
    "t22_ylow = np.asarray([t22_mass['OVI'][1]])\n",
    "t22_yup = np.asarray([t22_mass['OVI'][2]])\n",
    "\n",
    "ax.errorbar(t22_x, t22_y, # yerr=[t22_ylow, t22_yup], \n",
    "            fmt='P', alpha=0.8, color=plt.cm.Greys(0.6), markersize=12, lw=linelw, \n",
    "            markeredgecolor='k', markeredgewidth=lw, \n",
    "            label='Tchernyshyov+2022', capsize=3, capthick=4)\n",
    "\n",
    "\n",
    "#### figure legend #### \n",
    "ax.set_ylabel(r'Ion Mass within $R_{\\rm 200m}$ (M$_\\odot$)', fontsize=fs)\n",
    "ax.set_xlabel(r'Ionization Potential (eV)', fontsize=fs)\n",
    "    \n",
    "ion_energy = [ion_eV['HI'], ion_eV['SiII'], ion_eV['CII'], \n",
    "              ion_eV['SiIII'], ion_eV['SiIV'], ion_eV['CIV'], ion_eV['OVI']]\n",
    "for i, ion in enumerate(ion_energy): \n",
    "    x = ion_energy[i]\n",
    "    ax.axvline(x, color=plt.cm.Greys(0.5), ls='--', lw=0.5)\n",
    "    \n",
    "legend = ax.legend(loc='lower right', fontsize=fs-5, markerscale=0.8)\n",
    "#ax.set_ylim(1, 2e6)\n",
    "ax.set_ylim(1, 2e8)\n",
    "\n",
    "axb = ax.twiny()\n",
    "for iax in [ax, axb]: \n",
    "    iax.set_yscale('log')\n",
    "    iax.set_xscale('log')\n",
    "    iax.set_xlim(12, ion_eV['OVI']+20)\n",
    "    iax.set_xticks(ion_energy)\n",
    "    iax.tick_params(axis='x',which='minor',bottom=False, top=False, labelsize=fs-2)\n",
    "    \n",
    "axb.set_xticklabels(['HI', 'SiII', 'CII', 'SiIII', 'SiIV', 'CIV', 'OVI'], fontsize=fs-2)\n",
    "ax.set_xticklabels(['{:.1f}'.format(eV) for eV in ion_energy], fontsize=fs-2)\n",
    "\n",
    "# fig.tight_layout()\n",
    "fig.savefig('figs/fig10_ion_mass_comparison_meanlogN.pdf')"
   ]
  },
  {
   "cell_type": "code",
   "execution_count": null,
   "id": "7ac76cc8",
   "metadata": {},
   "outputs": [],
   "source": []
  },
  {
   "cell_type": "code",
   "execution_count": null,
   "id": "dadcd40b",
   "metadata": {},
   "outputs": [],
   "source": []
  }
 ],
 "metadata": {
  "kernelspec": {
   "display_name": "Python 3 (ipykernel)",
   "language": "python",
   "name": "python3"
  },
  "language_info": {
   "codemirror_mode": {
    "name": "ipython",
    "version": 3
   },
   "file_extension": ".py",
   "mimetype": "text/x-python",
   "name": "python",
   "nbconvert_exporter": "python",
   "pygments_lexer": "ipython3",
   "version": "3.9.7"
  },
  "toc": {
   "base_numbering": 1,
   "nav_menu": {},
   "number_sections": true,
   "sideBar": true,
   "skip_h1_title": false,
   "title_cell": "Table of Contents",
   "title_sidebar": "Contents",
   "toc_cell": false,
   "toc_position": {},
   "toc_section_display": true,
   "toc_window_display": false
  }
 },
 "nbformat": 4,
 "nbformat_minor": 5
}
